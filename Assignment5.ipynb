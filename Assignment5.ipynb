{
 "cells": [
  {
   "cell_type": "code",
   "execution_count": null,
   "metadata": {
    "collapsed": true
   },
   "outputs": [],
   "source": [
    "Q1. IO error"
   ]
  },
  {
   "cell_type": "code",
   "execution_count": 8,
   "metadata": {},
   "outputs": [
    {
     "name": "stdout",
     "output_type": "stream",
     "text": [
      "File Not Found\n"
     ]
    }
   ],
   "source": [
    "try:\n",
    "    fp=open(\"newfile.txt\",\"r\")\n",
    "except IOError:\n",
    "    print(\"File Not Found\")"
   ]
  },
  {
   "cell_type": "code",
   "execution_count": null,
   "metadata": {
    "collapsed": true
   },
   "outputs": [],
   "source": [
    "Q2. Value error"
   ]
  },
  {
   "cell_type": "code",
   "execution_count": 18,
   "metadata": {},
   "outputs": [
    {
     "name": "stdout",
     "output_type": "stream",
     "text": [
      "value enterred is not according to the datatype specified\n"
     ]
    }
   ],
   "source": [
    "try:\n",
    "    c=int(\"Enter the name\")\n",
    "except ValueError:\n",
    "    print(\"Value enterred is not according to the datatype specified\")"
   ]
  },
  {
   "cell_type": "code",
   "execution_count": null,
   "metadata": {
    "collapsed": true
   },
   "outputs": [],
   "source": [
    "Q3. Import error"
   ]
  },
  {
   "cell_type": "code",
   "execution_count": 16,
   "metadata": {},
   "outputs": [
    {
     "name": "stdout",
     "output_type": "stream",
     "text": [
      "Importing fails\n"
     ]
    }
   ],
   "source": [
    "try:\n",
    "    import maths\n",
    "except ImportError:\n",
    "    print(\"Importing fails\")"
   ]
  },
  {
   "cell_type": "code",
   "execution_count": null,
   "metadata": {
    "collapsed": true
   },
   "outputs": [],
   "source": [
    "Q5. Overflow error"
   ]
  },
  {
   "cell_type": "code",
   "execution_count": 32,
   "metadata": {},
   "outputs": [
    {
     "name": "stdout",
     "output_type": "stream",
     "text": [
      "4611686014132420609\n"
     ]
    }
   ],
   "source": [
    "import sys\n",
    "try:\n",
    "    a=int(sys.maxsize**2)\n",
    "    print(a)\n",
    "except:\n",
    "    print(\"Overflow error\")"
   ]
  },
  {
   "cell_type": "code",
   "execution_count": null,
   "metadata": {
    "collapsed": true
   },
   "outputs": [],
   "source": [
    "Q6. Zero division error"
   ]
  },
  {
   "cell_type": "code",
   "execution_count": 24,
   "metadata": {},
   "outputs": [
    {
     "name": "stdout",
     "output_type": "stream",
     "text": [
      "Enter the divident 12\n",
      "ENter the divisor 0\n",
      "Can't divide by zero\n",
      "0\n"
     ]
    }
   ],
   "source": [
    "num=int(input(\"Enter the divident \"))\n",
    "div=int(input(\"ENter the divisor \"))\n",
    "c=0\n",
    "try:\n",
    "    c=num/div\n",
    "except ZeroDivisionError:\n",
    "    print(\"Can't divide by zero\")\n",
    "print(c)"
   ]
  },
  {
   "cell_type": "code",
   "execution_count": null,
   "metadata": {
    "collapsed": true
   },
   "outputs": [],
   "source": [
    "Q7. Floating point error"
   ]
  },
  {
   "cell_type": "code",
   "execution_count": 26,
   "metadata": {},
   "outputs": [
    {
     "name": "stdout",
     "output_type": "stream",
     "text": [
      "Enter the divident 12\n",
      "ENter the divisor 0\n",
      "Floating point error\n",
      "0.0\n"
     ]
    }
   ],
   "source": [
    "num=float(input(\"Enter the divident \"))\n",
    "div=float(input(\"ENter the divisor \"))\n",
    "c=0.0\n",
    "try:\n",
    "    c=num/div\n",
    "except:\n",
    "    print(\"Floating point error\")\n",
    "print(c)"
   ]
  },
  {
   "cell_type": "code",
   "execution_count": null,
   "metadata": {
    "collapsed": true
   },
   "outputs": [],
   "source": [
    "Q8. Name error"
   ]
  },
  {
   "cell_type": "code",
   "execution_count": 28,
   "metadata": {},
   "outputs": [
    {
     "name": "stdout",
     "output_type": "stream",
     "text": [
      "Enter the first variable 5\n",
      "Enter the second variable 2\n",
      "The variable is not found \n"
     ]
    }
   ],
   "source": [
    "num=int(input(\"Enter the first variable \"))\n",
    "add=int(input(\"Enter the second variable \"))\n",
    "try:\n",
    "    ans=num+sub\n",
    "except:\n",
    "    print(\"The variable is not found \")"
   ]
  },
  {
   "cell_type": "code",
   "execution_count": null,
   "metadata": {
    "collapsed": true
   },
   "outputs": [],
   "source": [
    "Q9. Index error"
   ]
  },
  {
   "cell_type": "code",
   "execution_count": 30,
   "metadata": {},
   "outputs": [
    {
     "name": "stdout",
     "output_type": "stream",
     "text": [
      "Index is not found \n"
     ]
    }
   ],
   "source": [
    "list1=[1,2,3,4]\n",
    "try:\n",
    "    num=list1[6]\n",
    "except:\n",
    "    print(\"Index is not found \")"
   ]
  }
 ],
 "metadata": {
  "kernelspec": {
   "display_name": "Python 3",
   "language": "python",
   "name": "python3"
  },
  "language_info": {
   "codemirror_mode": {
    "name": "ipython",
    "version": 3
   },
   "file_extension": ".py",
   "mimetype": "text/x-python",
   "name": "python",
   "nbconvert_exporter": "python",
   "pygments_lexer": "ipython3",
   "version": "3.6.2"
  }
 },
 "nbformat": 4,
 "nbformat_minor": 2
}
