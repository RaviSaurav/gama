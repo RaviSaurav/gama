{
 "cells": [
  {
   "cell_type": "code",
   "execution_count": null,
   "metadata": {
    "collapsed": true
   },
   "outputs": [],
   "source": [
    "Q1. Python program to create dictionary for 10 students"
   ]
  },
  {
   "cell_type": "code",
   "execution_count": 3,
   "metadata": {},
   "outputs": [
    {
     "name": "stdout",
     "output_type": "stream",
     "text": [
      "Enter the number of students1\n",
      "Enter the name avi\n",
      "Enter the roll number 1\n",
      "{1: 'avi'}\n"
     ]
    }
   ],
   "source": [
    "mydic={}\n",
    "num=int(input(\"Enter the number of students\"))\n",
    "for i in range (num):\n",
    "    name=input(\"Enter the name \")\n",
    "    roll=int(input(\"Enter the roll number \"))\n",
    "    mydic[roll]=name\n",
    "print(mydic)\n"
   ]
  },
  {
   "cell_type": "code",
   "execution_count": null,
   "metadata": {
    "collapsed": true
   },
   "outputs": [],
   "source": [
    "Q2. Create 2 dictionary and concatenate and print resulting dictionary"
   ]
  },
  {
   "cell_type": "code",
   "execution_count": null,
   "metadata": {},
   "outputs": [],
   "source": [
    "dict1= { \"brand\": \"Ford\",\"model\": \"Mustang\"}\n",
    "dict2= {\"a\":\"Maruti\",\"b\":\"Swift\"}\n",
    "dict2.update(dict1)\n",
    "print(dict2)"
   ]
  },
  {
   "cell_type": "code",
   "execution_count": null,
   "metadata": {
    "collapsed": true
   },
   "outputs": [],
   "source": [
    "Q3. check if key is presnt in dictionary or not"
   ]
  },
  {
   "cell_type": "code",
   "execution_count": null,
   "metadata": {},
   "outputs": [],
   "source": [
    "dict1={\"brand\":\"Ford\",\"model\":\"mustang\",\"year\":1994}\n",
    "key=input(\"Enter the key \")\n",
    "if key in dict1:\n",
    "    print(\"key is present and value is \",dict1[key])\n",
    "else:\n",
    "    print(\"Key is not present\")    "
   ]
  },
  {
   "cell_type": "code",
   "execution_count": null,
   "metadata": {
    "collapsed": true
   },
   "outputs": [],
   "source": [
    "Q4. Python program to generate dictionary in form of (x,x*x)"
   ]
  },
  {
   "cell_type": "code",
   "execution_count": 10,
   "metadata": {},
   "outputs": [
    {
     "name": "stdout",
     "output_type": "stream",
     "text": [
      "Enter the end value 6\n",
      "{1: 1, 2: 4, 3: 9, 4: 16, 5: 25}\n"
     ]
    }
   ],
   "source": [
    "dict={}\n",
    "num=int(input(\"Enter the end value \"))\n",
    "for i in range(1,num):\n",
    "    dict[i]=i*i\n",
    "print(dict)"
   ]
  },
  {
   "cell_type": "code",
   "execution_count": null,
   "metadata": {
    "collapsed": true
   },
   "outputs": [],
   "source": [
    "Q5. Sum of all items in dictionary"
   ]
  },
  {
   "cell_type": "code",
   "execution_count": 4,
   "metadata": {},
   "outputs": [
    {
     "name": "stdout",
     "output_type": "stream",
     "text": [
      "Enter the total items3\n",
      "Enter the key 1\n",
      "Enter the value 11\n",
      "Enter the key 2\n",
      "Enter the value 22\n",
      "Enter the key 3\n",
      "Enter the value 33\n",
      "{1: 11, 2: 22, 3: 33}\n",
      "The sum of all items is  66\n"
     ]
    }
   ],
   "source": [
    "dict1={}\n",
    "val=0\n",
    "num=int(input(\"Enter the total items\"))\n",
    "for i in range (num):\n",
    "    key=int(input(\"Enter the key \"))\n",
    "    name=int(input(\"Enter the value \"))\n",
    "    val=val+name\n",
    "    dict1[key]=name\n",
    "print(dict1)\n",
    "print(\"The sum of all items is \",val)"
   ]
  },
  {
   "cell_type": "code",
   "execution_count": null,
   "metadata": {
    "collapsed": true
   },
   "outputs": [],
   "source": [
    "Q6. Multiply all items in dictionary"
   ]
  },
  {
   "cell_type": "code",
   "execution_count": 6,
   "metadata": {},
   "outputs": [
    {
     "name": "stdout",
     "output_type": "stream",
     "text": [
      "Enter the total items3\n",
      "Enter the key 1\n",
      "Enter the value 2\n",
      "Enter the key 2\n",
      "Enter the value 3\n",
      "Enter the key 3\n",
      "Enter the value 4\n",
      "{1: 2, 2: 3, 3: 4}\n",
      "The multiplication of all items is  24\n"
     ]
    }
   ],
   "source": [
    "dict1={}\n",
    "val=1\n",
    "num=int(input(\"Enter the total items\"))\n",
    "for i in range (num):\n",
    "    key=int(input(\"Enter the key \"))\n",
    "    name=int(input(\"Enter the value \"))\n",
    "    val=val*name\n",
    "    dict1[key]=name\n",
    "print(dict1)\n",
    "print(\"The multiplication of all items is \",val)"
   ]
  },
  {
   "cell_type": "code",
   "execution_count": null,
   "metadata": {
    "collapsed": true
   },
   "outputs": [],
   "source": [
    "Q7. Map list onto dictionary"
   ]
  },
  {
   "cell_type": "code",
   "execution_count": 14,
   "metadata": {},
   "outputs": [
    {
     "name": "stdout",
     "output_type": "stream",
     "text": [
      "{'Ravi': 1, 'Saurav': 2, 'Hello': 3}\n"
     ]
    }
   ],
   "source": [
    "dict={}\n",
    "list1=[\"Ravi\",\"Saurav\",\"Hello\"]\n",
    "list2=[1,2,3]\n",
    "for i in range(len(list1)):\n",
    "    dict[list1[i]]=list2[i]\n",
    "print(dict)"
   ]
  },
  {
   "cell_type": "code",
   "execution_count": null,
   "metadata": {
    "collapsed": true
   },
   "outputs": [],
   "source": [
    "Q8. Count frequency of words"
   ]
  },
  {
   "cell_type": "code",
   "execution_count": 15,
   "metadata": {},
   "outputs": [
    {
     "name": "stdout",
     "output_type": "stream",
     "text": [
      "Enter the stringravi saurav is saurav ravi saurav\n",
      "{'ravi': 2, 'saurav': 3, 'is': 1}\n"
     ]
    }
   ],
   "source": [
    "name=input(\"Enter the string\")\n",
    "dic={}\n",
    "sp=name.split()\n",
    "for x in sp:\n",
    "    if x in dic:\n",
    "        dic[x]+=1\n",
    "    else:\n",
    "        dic[x]=1\n",
    "print(dic)"
   ]
  },
  {
   "cell_type": "code",
   "execution_count": null,
   "metadata": {
    "collapsed": true
   },
   "outputs": [],
   "source": [
    "Q9. Create dictionary with key as first char and value starting from first char"
   ]
  },
  {
   "cell_type": "code",
   "execution_count": 21,
   "metadata": {},
   "outputs": [
    {
     "name": "stdout",
     "output_type": "stream",
     "text": [
      "Enter the elements3\n",
      "Enter the stringhi\n",
      "Enter the stringthis\n",
      "Enter the stringis\n",
      "{'h': 'hi', 't': 'this', 'i': 'is'}\n"
     ]
    }
   ],
   "source": [
    "dic={}\n",
    "n=int(input(\"Enter the elements\"))\n",
    "for i in range (n):\n",
    "    name=input(\"Enter the string\")\n",
    "    dic[name[0]]=name\n",
    "print(dic)"
   ]
  },
  {
   "cell_type": "code",
   "execution_count": null,
   "metadata": {
    "collapsed": true
   },
   "outputs": [],
   "source": [
    "Q10. Create dictionary with marks and student name and sort according to marks and print the dictionary "
   ]
  },
  {
   "cell_type": "code",
   "execution_count": 22,
   "metadata": {},
   "outputs": [
    {
     "name": "stdout",
     "output_type": "stream",
     "text": [
      "Enter number of studnets3\n",
      "Enter the nameravi\n",
      "Enter the marks12\n",
      "Enter the namekandy\n",
      "Enter the marks1\n",
      "Enter the namepriyanka\n",
      "Enter the marks34\n",
      "kandy : 1\n",
      "ravi : 12\n",
      "priyanka : 34\n"
     ]
    }
   ],
   "source": [
    "dict={}\n",
    "n=int(input(\"Enter number of studnets\"))\n",
    "for i in range(n):\n",
    "    name=input(\"Enter the name\")\n",
    "    marks=int(input(\"Enter the marks\"))\n",
    "    dict[name]=marks\n",
    "li=sorted(dict.values())\n",
    "for i in li:\n",
    "    for j in dict:\n",
    "        if dict[j]==i:\n",
    "            print(j,\":\",dict[j])\n",
    "    "
   ]
  },
  {
   "cell_type": "code",
   "execution_count": null,
   "metadata": {
    "collapsed": true
   },
   "outputs": [],
   "source": []
  }
 ],
 "metadata": {
  "kernelspec": {
   "display_name": "Python 3",
   "language": "python",
   "name": "python3"
  },
  "language_info": {
   "codemirror_mode": {
    "name": "ipython",
    "version": 3
   },
   "file_extension": ".py",
   "mimetype": "text/x-python",
   "name": "python",
   "nbconvert_exporter": "python",
   "pygments_lexer": "ipython3",
   "version": "3.6.2"
  }
 },
 "nbformat": 4,
 "nbformat_minor": 2
}
