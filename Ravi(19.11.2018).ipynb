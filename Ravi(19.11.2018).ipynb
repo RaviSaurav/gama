{
 "cells": [
  {
   "cell_type": "code",
   "execution_count": 1,
   "metadata": {},
   "outputs": [
    {
     "name": "stdout",
     "output_type": "stream",
     "text": [
      "hello world!\n"
     ]
    }
   ],
   "source": [
    "print(\"hello world!\")"
   ]
  },
  {
   "cell_type": "code",
   "execution_count": null,
   "metadata": {
    "collapsed": true
   },
   "outputs": [],
   "source": [
    "Q1. Write a Program to get 'n' number of input values and print the sum"
   ]
  },
  {
   "cell_type": "code",
   "execution_count": 91,
   "metadata": {},
   "outputs": [
    {
     "name": "stdout",
     "output_type": "stream",
     "text": [
      "Enter the number of values you want to enter5\n",
      "Enter numbers:2\n",
      "Enter numbers:4\n",
      "Enter numbers:6\n",
      "Enter numbers:8\n",
      "Enter numbers:10\n",
      "Total sum is  30\n"
     ]
    }
   ],
   "source": [
    "a=int(input('Enter the number of values you want to enter'))\n",
    "sum=0\n",
    "for i in range(a):\n",
    "    num=int(input('Enter numbers:'))\n",
    "    sum=sum+num\n",
    "print(\"Total sum is \",sum)"
   ]
  },
  {
   "cell_type": "code",
   "execution_count": null,
   "metadata": {
    "collapsed": true
   },
   "outputs": [],
   "source": [
    "Q3. Area of the triangle"
   ]
  },
  {
   "cell_type": "code",
   "execution_count": 13,
   "metadata": {},
   "outputs": [
    {
     "name": "stdout",
     "output_type": "stream",
     "text": [
      "Enter the value of base of triangle :15\n",
      "Enter the height of traingle :12\n",
      "The area of traingle is  90.0\n"
     ]
    }
   ],
   "source": [
    "base=int(input('Enter the value of base of triangle :'))\n",
    "height=int(input('Enter the height of traingle :'))\n",
    "area=(base*height)/2\n",
    "print(\"The area of traingle is \",area)"
   ]
  },
  {
   "cell_type": "code",
   "execution_count": null,
   "metadata": {
    "collapsed": true
   },
   "outputs": [],
   "source": [
    "Q4. Swap two variables"
   ]
  },
  {
   "cell_type": "code",
   "execution_count": 22,
   "metadata": {},
   "outputs": [
    {
     "name": "stdout",
     "output_type": "stream",
     "text": [
      "Enter First number:12\n",
      "Enter Second number24\n",
      "The numbers before swapping are 12 and 24 \n",
      "The numbers after swapping are 24 and 12 \n"
     ]
    }
   ],
   "source": [
    "first=int(input('Enter First number:'))\n",
    "second=int(input('Enter Second number:'))\n",
    "print(\"The numbers before swapping are %s and %s \"%(first,second))\n",
    "temp=first\n",
    "first=second\n",
    "second=temp\n",
    "print(\"The numbers after swapping are %s and %s \"%(first,second))\n"
   ]
  },
  {
   "cell_type": "code",
   "execution_count": null,
   "metadata": {
    "collapsed": true
   },
   "outputs": [],
   "source": [
    "Q10. Calculate Factorial"
   ]
  },
  {
   "cell_type": "code",
   "execution_count": 21,
   "metadata": {},
   "outputs": [
    {
     "name": "stdout",
     "output_type": "stream",
     "text": [
      "Enter the number:6\n",
      "The factorial of 6 is 720 \n"
     ]
    }
   ],
   "source": [
    "num=int(input('Enter the number:'))\n",
    "fact=1\n",
    "for i in range (1,num+1):\n",
    "    fact=fact*i\n",
    "print(\"The factorial of %d is %d \"%(num,fact))"
   ]
  },
  {
   "cell_type": "code",
   "execution_count": null,
   "metadata": {
    "collapsed": true
   },
   "outputs": [],
   "source": [
    "Q2. Check if number is prime or not"
   ]
  },
  {
   "cell_type": "code",
   "execution_count": 28,
   "metadata": {},
   "outputs": [
    {
     "name": "stdout",
     "output_type": "stream",
     "text": [
      "Enter the number:34\n",
      "Not Prime\n"
     ]
    }
   ],
   "source": [
    "num=int(input('Enter the number:'))\n",
    "flag=0;\n",
    "for i in range(2,num//2):\n",
    "    if(num%i==0):\n",
    "        flag=1;\n",
    "    else:\n",
    "        continue\n",
    "if(flag==0):print(\"Prime number\")\n",
    "else:print(\"Not Prime\")\n",
    "    \n"
   ]
  },
  {
   "cell_type": "code",
   "execution_count": null,
   "metadata": {
    "collapsed": true
   },
   "outputs": [],
   "source": [
    "Q9. Number is odd or even"
   ]
  },
  {
   "cell_type": "code",
   "execution_count": 35,
   "metadata": {},
   "outputs": [
    {
     "name": "stdout",
     "output_type": "stream",
     "text": [
      "Enter the number:6\n",
      "Number is even\n"
     ]
    }
   ],
   "source": [
    "num=int(input(\"Enter the number:\"))\n",
    "if(num%2==0):\n",
    "    print(\"Number is even\")\n",
    "else:\n",
    "    print(\"Number is odd\")"
   ]
  },
  {
   "cell_type": "code",
   "execution_count": null,
   "metadata": {
    "collapsed": true
   },
   "outputs": [],
   "source": [
    "Q12. Print Fibonacci Series"
   ]
  },
  {
   "cell_type": "code",
   "execution_count": 77,
   "metadata": {},
   "outputs": [
    {
     "name": "stdout",
     "output_type": "stream",
     "text": [
      "Enter till where you want to print fibonacci series :11\n",
      "0,1,1,2,3,5,8,13,21,34,55,89,"
     ]
    }
   ],
   "source": [
    "num=int(input(\"Enter till where you want to print fibonacci series :\"))\n",
    "a=0\n",
    "b=1\n",
    "print(\"0,1\",end=',')\n",
    "for i in range(2,num+1):\n",
    "    sum=a+b\n",
    "    a=b\n",
    "    b=sum\n",
    "    print(sum,end=',')\n",
    "\n",
    "    "
   ]
  },
  {
   "cell_type": "code",
   "execution_count": null,
   "metadata": {
    "collapsed": true
   },
   "outputs": [],
   "source": [
    "Q8. check number is positive,negative or zero"
   ]
  },
  {
   "cell_type": "code",
   "execution_count": 43,
   "metadata": {},
   "outputs": [
    {
     "name": "stdout",
     "output_type": "stream",
     "text": [
      "Enter the number: 0\n",
      "Zero is Entered\n"
     ]
    }
   ],
   "source": [
    "num=int(input(\"Enter the number: \"))\n",
    "if(num>0):print(\"Positive number\")\n",
    "elif(num<0):print(\"Negative number\")\n",
    "else:print(\"Zero is Entered\")"
   ]
  },
  {
   "cell_type": "code",
   "execution_count": null,
   "metadata": {
    "collapsed": true
   },
   "outputs": [],
   "source": [
    "Q6. Leap Year Program"
   ]
  },
  {
   "cell_type": "code",
   "execution_count": 54,
   "metadata": {},
   "outputs": [
    {
     "name": "stdout",
     "output_type": "stream",
     "text": [
      "Enter the year you wish to check: 1600\n",
      "Leap Year\n"
     ]
    }
   ],
   "source": [
    "year=int(input(\"Enter the year you wish to check: \"))\n",
    "if((year%400==0)or((year%4==0) and (year%100!=0))):\n",
    "    print(\"Leap Year\")\n",
    "else:\n",
    "    print(\"Not a leap Year\")\n"
   ]
  },
  {
   "cell_type": "code",
   "execution_count": null,
   "metadata": {
    "collapsed": true
   },
   "outputs": [],
   "source": [
    "Q13. Largest And Smallest of three numbers"
   ]
  },
  {
   "cell_type": "code",
   "execution_count": 65,
   "metadata": {},
   "outputs": [
    {
     "name": "stdout",
     "output_type": "stream",
     "text": [
      "Enter the first number: 10\n",
      "Enter the second number: 14\n",
      "Enter the third number: 21\n",
      "Largest value is  21\n",
      "Smallest value is  10\n"
     ]
    }
   ],
   "source": [
    "a=int(input(\"Enter the first number: \"))\n",
    "b=int(input(\"Enter the second number: \"))\n",
    "c=int(input(\"Enter the third number: \"))\n",
    "if(a>b) and (a>c):\n",
    "    print(\"Largest value is \",a)\n",
    "elif(b>c):\n",
    "    print(\"Largest value is \",b)\n",
    "else:\n",
    "    print(\"Largest value is \",c)\n",
    "if(a<b) and (a<c):\n",
    "    print(\"Smallest value is \",a)\n",
    "elif(b<c):\n",
    "    print(\"Smallest value is \",b)\n",
    "else:\n",
    "    print(\"Smallest value is \",c)\n"
   ]
  },
  {
   "cell_type": "code",
   "execution_count": null,
   "metadata": {
    "collapsed": true
   },
   "outputs": [],
   "source": [
    "Q11. print multiplication table"
   ]
  },
  {
   "cell_type": "code",
   "execution_count": 69,
   "metadata": {},
   "outputs": [
    {
     "name": "stdout",
     "output_type": "stream",
     "text": [
      "Enter the number for which you want the multiplication table: 3\n",
      "3 * 1 = 3\n",
      "3 * 2 = 6\n",
      "3 * 3 = 9\n",
      "3 * 4 = 12\n",
      "3 * 5 = 15\n",
      "3 * 6 = 18\n",
      "3 * 7 = 21\n",
      "3 * 8 = 24\n",
      "3 * 9 = 27\n",
      "3 * 10 = 30\n"
     ]
    }
   ],
   "source": [
    "num=int(input(\"Enter the number for which you want the multiplication table: \"))\n",
    "result=0\n",
    "for i in range(1,11):\n",
    "    res=num*i\n",
    "    print(\"%d * %d = %d\"%(num,i,res))\n"
   ]
  },
  {
   "cell_type": "code",
   "execution_count": null,
   "metadata": {
    "collapsed": true
   },
   "outputs": [],
   "source": [
    "Q7. Calculator"
   ]
  },
  {
   "cell_type": "code",
   "execution_count": 13,
   "metadata": {},
   "outputs": [
    {
     "name": "stdout",
     "output_type": "stream",
     "text": [
      "Enter the first number4\n",
      "Enter the second number2\n",
      "1.Addition 2.Subtraction 3.Multiplication 4.Division\n",
      "Enter your choice :4\n",
      "The value is  2.0\n"
     ]
    }
   ],
   "source": [
    "num1=int(input('Enter the first number'))\n",
    "num2=int(input('Enter the second number'))\n",
    "def add(num1,num2):\n",
    "    res=num1+num2;\n",
    "    print(\"The value is \",res)\n",
    "def sub(num1,num2):\n",
    "    res=num1-num2;\n",
    "    print(\"The value is \",res)\n",
    "def mul(num1,num2):\n",
    "    res=num1*num2;\n",
    "    print(\"The value is \",res)\n",
    "def div(num1,num2):\n",
    "    res=num1/num2;\n",
    "    print(\"The value is \",res)\n",
    "\n",
    "print(\"1.Addition 2.Subtraction 3.Multiplication 4.Division\")\n",
    "ch=int(input(\"Enter your choice :\"))\n",
    "if(ch==1):\n",
    "    add(num1,num2)\n",
    "elif(ch==2):\n",
    "    sub(num1,num2)\n",
    "elif(ch==3):\n",
    "    mul(num1,num2)\n",
    "elif(ch==4):\n",
    "    div(num1,num2)"
   ]
  },
  {
   "cell_type": "code",
   "execution_count": null,
   "metadata": {
    "collapsed": true
   },
   "outputs": [],
   "source": [
    "Q14. Perform the conversion"
   ]
  },
  {
   "cell_type": "code",
   "execution_count": null,
   "metadata": {
    "collapsed": true
   },
   "outputs": [],
   "source": [
    "Q14.A. Km to miles and vice versa"
   ]
  },
  {
   "cell_type": "code",
   "execution_count": 84,
   "metadata": {},
   "outputs": [
    {
     "name": "stdout",
     "output_type": "stream",
     "text": [
      "Enter the value :5\n",
      "1.Kilometres to Miles\n",
      "2.Miles to Kilometres\n",
      "Enter your choice:2\n",
      "The value is  8.064516129032258\n"
     ]
    }
   ],
   "source": [
    "num=int(input(\"Enter the value :\"))\n",
    "def km2mi(num):\n",
    "    res=num*0.62\n",
    "    print(\"The value is \",res)\n",
    "def mi2km(num):\n",
    "    res=num/0.62\n",
    "    print(\"The value is \",res)\n",
    "print(\"1.Kilometres to Miles\")\n",
    "print(\"2.Miles to Kilometres\")\n",
    "ch=int(input(\"Enter your choice:\"))\n",
    "if(ch==1):km2mi(num)\n",
    "else:mi2km(num)"
   ]
  },
  {
   "cell_type": "code",
   "execution_count": null,
   "metadata": {
    "collapsed": true
   },
   "outputs": [],
   "source": [
    "Q14.B. Celcius to farhenheit and vice cersa"
   ]
  },
  {
   "cell_type": "code",
   "execution_count": 87,
   "metadata": {},
   "outputs": [
    {
     "name": "stdout",
     "output_type": "stream",
     "text": [
      "Enter the value :5\n",
      "1.Celsius to Fahreinheit\n",
      "2.Fahreinheit to Celsius\n",
      "Enter your choice:2\n",
      "The value is  -15.0\n"
     ]
    }
   ],
   "source": [
    "num=int(input(\"Enter the value :\"))\n",
    "def cl2far(num):\n",
    "    res=(num*9/5)+32\n",
    "    print(\"The value is \",res)\n",
    "def far2cl(num):\n",
    "    res=(num-32)*5/9\n",
    "    print(\"The value is \",res)\n",
    "print(\"1.Celsius to Fahreinheit\")\n",
    "print(\"2.Fahreinheit to Celsius\")\n",
    "ch=int(input(\"Enter your choice:\"))\n",
    "if(ch==1):cl2far(num)\n",
    "else:far2cl(num)"
   ]
  },
  {
   "cell_type": "code",
   "execution_count": null,
   "metadata": {
    "collapsed": true
   },
   "outputs": [],
   "source": [
    "Q14.C. Decimal to Binary octal to hexadecimal"
   ]
  },
  {
   "cell_type": "code",
   "execution_count": 8,
   "metadata": {},
   "outputs": [
    {
     "name": "stdout",
     "output_type": "stream",
     "text": [
      "Enter the value :1\n",
      "1.Decimal to binary\n",
      "2. Octal to Hexadecimal\n",
      "Enter the choice :1\n",
      "The binary value is  0b1\n"
     ]
    }
   ],
   "source": [
    "num=int(input(\"Enter the value :\"))\n",
    "def dec2bin(num):\n",
    "    print(\"The binary value is \",bin(num))\n",
    "def oct2hex(num):\n",
    "    print(\"The binary value is \",hex(num))\n",
    "print(\"1.Decimal to binary\")\n",
    "print(\"2. Octal to Hexadecimal\")\n",
    "ch=int(input(\"Enter the choice :\"))\n",
    "if(ch==1):dec2bin(num)\n",
    "if(ch==2):oct2hex(num)"
   ]
  },
  {
   "cell_type": "code",
   "execution_count": null,
   "metadata": {
    "collapsed": true
   },
   "outputs": [],
   "source": [
    "Q.5. Solve quadratic Equation"
   ]
  },
  {
   "cell_type": "code",
   "execution_count": 19,
   "metadata": {},
   "outputs": [
    {
     "name": "stdout",
     "output_type": "stream",
     "text": [
      "Enter the value of a :2\n",
      "Enter the value of b :9\n",
      "Enter the value of c :2\n",
      "Answer of the given quadratic equation are  -0.23443556292536272 -4.265564437074637\n"
     ]
    }
   ],
   "source": [
    "import math\n",
    "a=int(input(\"Enter the value of a :\"))\n",
    "b=int(input(\"Enter the value of b :\"))\n",
    "c=int(input(\"Enter the value of c :\"))\n",
    "d=(b*b)-(4*a*c)\n",
    "res1=(-b+math.sqrt(d))/(2*a)\n",
    "res2=(-b-math.sqrt(d))/(2*a)\n",
    "print(\"Answer of the given quadratic equation are \",res1,res2)\n"
   ]
  },
  {
   "cell_type": "code",
   "execution_count": null,
   "metadata": {
    "collapsed": true
   },
   "outputs": [],
   "source": []
  }
 ],
 "metadata": {
  "kernelspec": {
   "display_name": "Python 3",
   "language": "python",
   "name": "python3"
  }
 },
 "nbformat": 4,
 "nbformat_minor": 2
}
