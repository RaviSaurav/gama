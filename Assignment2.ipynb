{
 "cells": [
  {
   "cell_type": "code",
   "execution_count": null,
   "metadata": {
    "collapsed": true
   },
   "outputs": [],
   "source": [
    "Q1.A. Create a list with 8 elements and print largest and second largest"
   ]
  },
  {
   "cell_type": "code",
   "execution_count": 17,
   "metadata": {},
   "outputs": [
    {
     "name": "stdout",
     "output_type": "stream",
     "text": [
      "Lrgest:  67\n",
      "Second Largest:  54\n"
     ]
    }
   ],
   "source": [
    "newlist=[13,15,21,34,52,11,67,54]\n",
    "newlist.sort(reverse=True)\n",
    "print(\"Lrgest: \",newlist[0] )\n",
    "print(\"Second Largest: \",newlist[1])"
   ]
  },
  {
   "cell_type": "code",
   "execution_count": null,
   "metadata": {
    "collapsed": true
   },
   "outputs": [],
   "source": [
    "Q1.B. Swap first and last"
   ]
  },
  {
   "cell_type": "code",
   "execution_count": 39,
   "metadata": {},
   "outputs": [
    {
     "name": "stdout",
     "output_type": "stream",
     "text": [
      "The list before swapping was  [13, 15, 21, 34, 52, 11, 67, 54]\n",
      "The list after swapping is  [54, 15, 21, 34, 52, 11, 67, 13]\n"
     ]
    }
   ],
   "source": [
    "newlist=[13,15,21,34,52,11,67,54]\n",
    "print(\"The list before swapping was \",newlist)\n",
    "x=len(newlist)\n",
    "temp=newlist[0]\n",
    "newlist[0]=newlist[x-1]\n",
    "newlist[x-1]=temp\n",
    "print(\"The list after swapping is \",newlist)\n"
   ]
  },
  {
   "cell_type": "code",
   "execution_count": null,
   "metadata": {
    "collapsed": true
   },
   "outputs": [],
   "source": [
    "Q2. Create 2 lists and merge them and sort the resulting list"
   ]
  },
  {
   "cell_type": "code",
   "execution_count": 21,
   "metadata": {},
   "outputs": [
    {
     "name": "stdout",
     "output_type": "stream",
     "text": [
      "The unsorted list is  [11, 23, 34, 56, 65, 43, 45, 23, 32, 51, 74, 82, 12, 34]\n",
      "The sorted list is  [11, 12, 23, 23, 32, 34, 34, 43, 45, 51, 56, 65, 74, 82]\n"
     ]
    }
   ],
   "source": [
    "new1=[11,23,34,56,65,43,45]\n",
    "new2=[23,32,51,74,82,12,34]\n",
    "new3=new1+new2\n",
    "print(\"The unsorted list is \",new3)\n",
    "new3.sort()\n",
    "print(\"The sorted list is \",new3)"
   ]
  },
  {
   "cell_type": "code",
   "execution_count": null,
   "metadata": {
    "collapsed": true
   },
   "outputs": [],
   "source": [
    "Q3. Find the union and intersection of 2 lists"
   ]
  },
  {
   "cell_type": "code",
   "execution_count": 71,
   "metadata": {},
   "outputs": [
    {
     "name": "stdout",
     "output_type": "stream",
     "text": [
      "The union of the list is  [1, 2, 3, 4, 5, 6, 2, 4, 3, 1, 2, 6]\n",
      "The intersction of the list is  {1, 2, 3, 4, 6}\n"
     ]
    }
   ],
   "source": [
    "list1=[1,2,3,4,5,6]\n",
    "list2=[2,4,3,1,2,6]\n",
    "list3=set(list1).intersection(list2)\n",
    "print(\"The union of the list is \",list1+list2)\n",
    "print(\"The intersction of the list is \",list3)"
   ]
  },
  {
   "cell_type": "code",
   "execution_count": null,
   "metadata": {
    "collapsed": true
   },
   "outputs": [],
   "source": [
    "Q4.A. Create a list and print 3rd and 6th element"
   ]
  },
  {
   "cell_type": "code",
   "execution_count": 22,
   "metadata": {},
   "outputs": [
    {
     "name": "stdout",
     "output_type": "stream",
     "text": [
      "cherry\n",
      "chickoo\n"
     ]
    }
   ],
   "source": [
    "thislist = [\"apple\",\"banana\",\"cherry\",\"mango\",\"strawberry\",\"chickoo\",\"pomegranate\",\"fish\",\"egg\",\"chcken\",\"butter\",\"milk\",\"egg\"]\n",
    "print(thislist[2])\n",
    "print(thislist[5])"
   ]
  },
  {
   "cell_type": "code",
   "execution_count": null,
   "metadata": {
    "collapsed": true
   },
   "outputs": [],
   "source": [
    "Q4.B. Create list and print first 5 elements"
   ]
  },
  {
   "cell_type": "code",
   "execution_count": 23,
   "metadata": {},
   "outputs": [
    {
     "name": "stdout",
     "output_type": "stream",
     "text": [
      "['apple', 'banana', 'cherry', 'mango', 'strawberry']\n"
     ]
    }
   ],
   "source": [
    "thislist = [\"apple\",\"banana\",\"cherry\",\"mango\",\"strawberry\",\"chickoo\",\"pomegranate\",\"fish\",\"egg\",\"chcken\",\"butter\",\"milk\",\"egg\"]\n",
    "print(thislist[:5])"
   ]
  },
  {
   "cell_type": "code",
   "execution_count": null,
   "metadata": {
    "collapsed": true
   },
   "outputs": [],
   "source": [
    "Q4.C. Create list and print element 7 to end"
   ]
  },
  {
   "cell_type": "code",
   "execution_count": 25,
   "metadata": {},
   "outputs": [
    {
     "name": "stdout",
     "output_type": "stream",
     "text": [
      "['pomegranate', 'fish', 'egg', 'chcken', 'butter', 'milk', 'egg']\n"
     ]
    }
   ],
   "source": [
    "thislist = [\"apple\",\"banana\",\"cherry\",\"mango\",\"strawberry\",\"chickoo\",\"pomegranate\",\"fish\",\"egg\",\"chcken\",\"butter\",\"milk\",\"egg\"]\n",
    "print(thislist[6:])"
   ]
  },
  {
   "cell_type": "code",
   "execution_count": null,
   "metadata": {
    "collapsed": true
   },
   "outputs": [],
   "source": [
    "Q4.D. Change 2nd and 5th element by X and Y "
   ]
  },
  {
   "cell_type": "code",
   "execution_count": 26,
   "metadata": {},
   "outputs": [
    {
     "name": "stdout",
     "output_type": "stream",
     "text": [
      "['apple', 'X', 'cherry', 'mango', 'Y', 'chickoo', 'pomegranate', 'fish', 'egg', 'chcken', 'butter', 'milk', 'egg']\n"
     ]
    }
   ],
   "source": [
    "thislist = [\"apple\",\"banana\",\"cherry\",\"mango\",\"strawberry\",\"chickoo\",\"pomegranate\",\"fish\",\"egg\",\"chcken\",\"butter\",\"milk\",\"egg\"]\n",
    "thislist[1]=\"X\"\n",
    "thislist[4]=\"Y\"\n",
    "print(thislist)"
   ]
  },
  {
   "cell_type": "code",
   "execution_count": null,
   "metadata": {
    "collapsed": true
   },
   "outputs": [],
   "source": [
    "Q4.E. Delete 5th element and print the list"
   ]
  },
  {
   "cell_type": "code",
   "execution_count": 32,
   "metadata": {},
   "outputs": [
    {
     "name": "stdout",
     "output_type": "stream",
     "text": [
      "['apple', 'banana', 'cherry', 'mango', 'chickoo', 'pomegranate', 'fish', 'egg', 'chcken', 'butter', 'milk', 'egg']\n"
     ]
    }
   ],
   "source": [
    "thislist = [\"apple\",\"banana\",\"cherry\",\"mango\",\"strawberry\",\"chickoo\",\"pomegranate\",\"fish\",\"egg\",\"chcken\",\"butter\",\"milk\",\"egg\"]\n",
    "del thislist[4]\n",
    "print(thislist)"
   ]
  },
  {
   "cell_type": "code",
   "execution_count": null,
   "metadata": {
    "collapsed": true
   },
   "outputs": [],
   "source": [
    "Q4.F. Count the number of elements in the list"
   ]
  },
  {
   "cell_type": "code",
   "execution_count": 35,
   "metadata": {},
   "outputs": [
    {
     "name": "stdout",
     "output_type": "stream",
     "text": [
      "The number of elements in the list is  13\n"
     ]
    }
   ],
   "source": [
    "thislist = [\"apple\",\"banana\",\"cherry\",\"mango\",\"strawberry\",\"chickoo\",\"pomegranate\",\"fish\",\"egg\",\"chcken\",\"butter\",\"milk\",\"egg\"]\n",
    "x=len(thislist)\n",
    "print(\"The number of elements in the list is \",x)"
   ]
  },
  {
   "cell_type": "code",
   "execution_count": null,
   "metadata": {
    "collapsed": true
   },
   "outputs": [],
   "source": [
    "Q5. Number of time a particular number occured and print largest even and odd number from the list"
   ]
  },
  {
   "cell_type": "code",
   "execution_count": 59,
   "metadata": {},
   "outputs": [
    {
     "name": "stdout",
     "output_type": "stream",
     "text": [
      "[13, 15, 21, 34, 52, 11, 67, 54, 67, 23, 87, 98, 67]\n",
      "Enter the number whose occurence you want to know: 67\n",
      "The number 67 occured 3 times\n",
      "The Largest Even number is  98\n",
      "The Largest odd number is  87\n"
     ]
    }
   ],
   "source": [
    "newlist=[13,15,21,34,52,11,67,54,67,23,87,98,67]\n",
    "print(newlist)\n",
    "ch=int(input(\"Enter the number whose occurence you want to know: \"))\n",
    "x=newlist.count(ch)\n",
    "print(\"The number %d occured %d times\"%(ch,x))\n",
    "x=len(newlist)\n",
    "newlist.sort(reverse=True)\n",
    "for i in range (x):\n",
    "    if(newlist[i]%2==0):\n",
    "        print(\"The Largest Even number is \",newlist[i])\n",
    "        break\n",
    "for i in range (x):\n",
    "    if(newlist[i]%2!=0):\n",
    "        print(\"The Largest odd number is \",newlist[i])\n",
    "        break"
   ]
  },
  {
   "cell_type": "code",
   "execution_count": null,
   "metadata": {
    "collapsed": true
   },
   "outputs": [],
   "source": [
    "Q6. List of tuple with first element as number and second as square of the number"
   ]
  },
  {
   "cell_type": "code",
   "execution_count": 72,
   "metadata": {},
   "outputs": [
    {
     "name": "stdout",
     "output_type": "stream",
     "text": [
      "Enter the initial value 1\n",
      "Enter till where you want to print 7\n",
      "[(1, 1), (2, 4), (3, 9), (4, 16), (5, 25), (6, 36), (7, 49)]\n"
     ]
    }
   ],
   "source": [
    "num1=int(input(\"Enter the initial value \"))\n",
    "num2=int(input(\"Enter till where you want to print \"))\n",
    "c=[(i,i**2) for i in range (num1,num2+1)]\n",
    "print(c)"
   ]
  },
  {
   "cell_type": "markdown",
   "metadata": {},
   "source": [
    "Q7. Generate random numbers from 1-20 and append them in a list"
   ]
  },
  {
   "cell_type": "code",
   "execution_count": 69,
   "metadata": {},
   "outputs": [
    {
     "name": "stdout",
     "output_type": "stream",
     "text": [
      "[13, 12, 8, 14, 16, 20, 13, 17, 10, 3]\n"
     ]
    }
   ],
   "source": [
    "import random\n",
    "newlist=[]\n",
    "for i in range(10):\n",
    "    newlist.append(random.randint(1,20))\n",
    "print(newlist)"
   ]
  },
  {
   "cell_type": "code",
   "execution_count": null,
   "metadata": {
    "collapsed": true
   },
   "outputs": [],
   "source": [
    "Q8. Python program to compute polynomial equation"
   ]
  },
  {
   "cell_type": "code",
   "execution_count": 1,
   "metadata": {},
   "outputs": [
    {
     "name": "stdout",
     "output_type": "stream",
     "text": [
      "Enter coefficient:1\n",
      "Enter coefficient:2\n",
      "Enter coefficient:3\n",
      "Enter coefficient:4\n",
      "Enter the value of x:5\n",
      "The value of the polynomial is: 194.0\n"
     ]
    }
   ],
   "source": [
    "import math\n",
    "lst=[]\n",
    "for i in range(0,4):\n",
    "    a=int(input(\"Enter coefficient:\"))\n",
    "    lst.append(a)\n",
    "x=int(input(\"Enter the value of x:\"))\n",
    "sum1=0\n",
    "j=3\n",
    "for i in range(0,3):\n",
    "    while(j>0):\n",
    "        sum1=sum1+(lst[i]*math.pow(x,j))\n",
    "        break\n",
    "    j=j-1\n",
    "sum1=sum1+lst[3]\n",
    "print(\"The value of the polynomial is:\",sum1)"
   ]
  },
  {
   "cell_type": "code",
   "execution_count": null,
   "metadata": {
    "collapsed": true
   },
   "outputs": [],
   "source": [
    "Q9. All number in range which are perfect squares and sum of all digits in the number is less than 10"
   ]
  },
  {
   "cell_type": "code",
   "execution_count": null,
   "metadata": {},
   "outputs": [],
   "source": [
    "import math\n",
    "list1=[]\n",
    "list2=[]\n",
    "def digitsum(a):\n",
    "    num2=a\n",
    "    res=0\n",
    "    rem=0\n",
    "    while(a>0):\n",
    "        rem=a%10\n",
    "        res=res+rem\n",
    "        a=a//10\n",
    "    if(res<10):\n",
    "            list2.append(num2)\n",
    "    return list2\n",
    "\n",
    "num=int(input(\"Enter till where you want perfect square to be printed \"))\n",
    "\n",
    "for i in range(1,num):\n",
    "    if(i*i<num):\n",
    "        list1.append(i*i)\n",
    "    else:\n",
    "        break\n",
    "print(list1)\n",
    "\n",
    "for i in range (len(list1)):\n",
    "    digitsum(list1[i])\n",
    "print(\"The number which is perfect square and digitsum is less than 10 is \",list2)\n",
    "    \n"
   ]
  },
  {
   "cell_type": "code",
   "execution_count": null,
   "metadata": {
    "collapsed": true
   },
   "outputs": [],
   "source": [
    "Q10. Program to find cumulative sum of list"
   ]
  },
  {
   "cell_type": "code",
   "execution_count": null,
   "metadata": {},
   "outputs": [],
   "source": [
    "list1=[1,2,3,4,5,6,7,8,9,10]\n",
    "list2=[]\n",
    "n=len(list1)\n",
    "for x in range(0,n):\n",
    "    list2=[sum(list1[:x+1]) for x in range(0,n)]\n",
    "print (list2)"
   ]
  },
  {
   "cell_type": "code",
   "execution_count": null,
   "metadata": {
    "collapsed": true
   },
   "outputs": [],
   "source": []
  }
 ],
 "metadata": {
  "kernelspec": {
   "display_name": "Python 3",
   "language": "python",
   "name": "python3"
  },
  "language_info": {
   "codemirror_mode": {
    "name": "ipython",
    "version": 3
   },
   "file_extension": ".py",
   "mimetype": "text/x-python",
   "name": "python",
   "nbconvert_exporter": "python",
   "pygments_lexer": "ipython3",
   "version": "3.6.2"
  }
 },
 "nbformat": 4,
 "nbformat_minor": 2
}
