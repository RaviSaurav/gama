{
 "cells": [
  {
   "cell_type": "code",
   "execution_count": null,
   "metadata": {
    "collapsed": true
   },
   "outputs": [],
   "source": [
    "Q1. Count number of vowels in a string using sets"
   ]
  },
  {
   "cell_type": "code",
   "execution_count": 8,
   "metadata": {},
   "outputs": [
    {
     "name": "stdout",
     "output_type": "stream",
     "text": [
      "Enter the string ravisaurav\n",
      "5\n"
     ]
    }
   ],
   "source": [
    "vowels={'a','e','i','o','u'}\n",
    "name=input(\"Enter the string \")\n",
    "count=0\n",
    "for i in range(len(name)):\n",
    "    for x in vowels:\n",
    "        if (name[i]==x):\n",
    "            count+=1\n",
    "print(count)\n",
    "        "
   ]
  },
  {
   "cell_type": "code",
   "execution_count": null,
   "metadata": {
    "collapsed": true
   },
   "outputs": [],
   "source": [
    "Q2. Commom letters in 2 input strings"
   ]
  },
  {
   "cell_type": "code",
   "execution_count": 19,
   "metadata": {},
   "outputs": [
    {
     "name": "stdout",
     "output_type": "stream",
     "text": [
      "Enter the first string ravi\n",
      "Enter the second string ashu\n",
      "{'a'}\n"
     ]
    }
   ],
   "source": [
    "name1=input(\"Enter the first string \")\n",
    "name2=input(\"Enter the second string \")\n",
    "list1=[]\n",
    "for x in range(len(name1)):\n",
    "    for i in range (len(name2)):\n",
    "        if(name1[i]==name2[x]):\n",
    "            list1.append(name1[i])\n",
    "print(set(list1))"
   ]
  },
  {
   "cell_type": "code",
   "execution_count": null,
   "metadata": {
    "collapsed": true
   },
   "outputs": [],
   "source": [
    "Q3. Displays which Letters are in the First String but not in the Second"
   ]
  },
  {
   "cell_type": "code",
   "execution_count": 43,
   "metadata": {},
   "outputs": [
    {
     "name": "stdout",
     "output_type": "stream",
     "text": [
      "Enter the first string ravisaurav\n",
      "Enter the second string kandarpsha\n",
      "{'u', 'v', 'i'}\n"
     ]
    }
   ],
   "source": [
    "name1=input(\"Enter the first string \")\n",
    "name2=input(\"Enter the second string \")\n",
    "list1=[]\n",
    "for x in range(len(name1)):\n",
    "    count=0\n",
    "    for i in range (len(name2)):\n",
    "        if(name1[x]!=name2[i]):\n",
    "            count+=1\n",
    "        if(count==len(name2)):\n",
    "            list1.append(name1[x])\n",
    "print(set(list1))"
   ]
  },
  {
   "cell_type": "code",
   "execution_count": null,
   "metadata": {
    "collapsed": true
   },
   "outputs": [],
   "source": [
    "Q4. Same as Question 2"
   ]
  },
  {
   "cell_type": "code",
   "execution_count": null,
   "metadata": {
    "collapsed": true
   },
   "outputs": [],
   "source": [
    "Q5. Write a Python Program to print which Letters are in the Two Strings but not in Both"
   ]
  },
  {
   "cell_type": "code",
   "execution_count": 51,
   "metadata": {},
   "outputs": [
    {
     "name": "stdout",
     "output_type": "stream",
     "text": [
      "Enter the first string ravi\n",
      "Enter the second string kand\n",
      "The letters are  {'k', 'n', 'i', 'r', 'v', 'd'}\n"
     ]
    }
   ],
   "source": [
    "name1=input(\"Enter the first string \")\n",
    "name2=input(\"Enter the second string \")\n",
    "set1=set(name1)\n",
    "set2=set(name2)\n",
    "a=set1.intersection(set2)\n",
    "b=set1.union(set2)\n",
    "c=b-a\n",
    "print(\"The letters are \",c)"
   ]
  },
  {
   "cell_type": "code",
   "execution_count": null,
   "metadata": {
    "collapsed": true
   },
   "outputs": [],
   "source": []
  }
 ],
 "metadata": {
  "kernelspec": {
   "display_name": "Python 3",
   "language": "python",
   "name": "python3"
  },
  "language_info": {
   "codemirror_mode": {
    "name": "ipython",
    "version": 3
   },
   "file_extension": ".py",
   "mimetype": "text/x-python",
   "name": "python",
   "nbconvert_exporter": "python",
   "pygments_lexer": "ipython3",
   "version": "3.6.2"
  }
 },
 "nbformat": 4,
 "nbformat_minor": 2
}
