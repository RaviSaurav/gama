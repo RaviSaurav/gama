{
 "cells": [
  {
   "cell_type": "code",
   "execution_count": 16,
   "metadata": {},
   "outputs": [
    {
     "name": "stdout",
     "output_type": "stream",
     "text": [
      "The array with 50th value as 50 and rest values as 0.0 is \n",
      "[  0.   0.   0.   0.   0.   0.   0.   0.   0.   0.   0.   0.   0.   0.   0.\n",
      "   0.   0.   0.   0.   0.   0.   0.   0.   0.   0.   0.   0.   0.   0.   0.\n",
      "   0.   0.   0.   0.   0.   0.   0.   0.   0.   0.   0.   0.   0.   0.   0.\n",
      "   0.   0.   0.   0.  50.   0.   0.   0.   0.   0.   0.   0.   0.   0.   0.\n",
      "   0.   0.   0.   0.   0.   0.   0.   0.   0.   0.   0.   0.   0.   0.   0.\n",
      "   0.   0.   0.   0.   0.   0.   0.   0.   0.   0.   0.   0.   0.   0.   0.\n",
      "   0.   0.   0.   0.   0.   0.   0.   0.   0.   0.]\n"
     ]
    }
   ],
   "source": [
    "#Q1. Create a vector or array of 100 elements. Its 50th value should be    50.0 and other values should be 0.0 (1 mark)\n",
    "\n",
    "import numpy as np\n",
    "a=np.zeros(100)\n",
    "a[49]=50\n",
    "print(\"The array with 50th value as 50 and rest values as 0.0 is \")\n",
    "print(a)"
   ]
  },
  {
   "cell_type": "code",
   "execution_count": 4,
   "metadata": {},
   "outputs": [
    {
     "name": "stdout",
     "output_type": "stream",
     "text": [
      "[  1.   1.   1.   1.   1.   1.   1.   1.   1.   1.   1.   1.   1.   1.   1.\n",
      "   1.   1.   1.   1.   1.   1.   1.   1.   1.   1.   1.   1.   1.   1.   1.\n",
      "   1.   1.   1.   1.   1.   1.   1.   1.   1.   1.   1.   1.   1.   1.   1.\n",
      "   1.   1.   1.   1.  10.   1.   1.   1.   1.   1.   1.   1.   1.   1.   1.\n",
      "   1.   1.   1.   1.   1.   1.   1.   1.   1.   1.   1.   1.   1.   1.   1.\n",
      "   1.   1.   1.   1.   1.   1.   1.   1.   1.   1.   1.   1.   1.   1.   1.\n",
      "   1.   1.   1.   1.   1.   1.   1.   1.   1.   1.]\n"
     ]
    }
   ],
   "source": [
    "#Q2. Create a vector or array of 100 elements. Its 50th value should be    10.0 and other values should be 1.0 (1 mark)\n",
    "\n",
    "b=np.ones(100)\n",
    "b[49]=10\n",
    "print(\"The array with 50th value as 10 and rest values as 1.0 is \")\n",
    "print(b)"
   ]
  },
  {
   "cell_type": "code",
   "execution_count": 9,
   "metadata": {},
   "outputs": [
    {
     "name": "stdout",
     "output_type": "stream",
     "text": [
      "Vector or array whose values are from 3,30 is \n",
      "[ 3  4  5  6  7  8  9 10 11 12 13 14 15 16 17 18 19 20 21 22 23 24 25 26 27\n",
      " 28 29 30]\n"
     ]
    }
   ],
   "source": [
    "#Q3. Create a  vector or array whose values are from 3, 30 (1 mark)\n",
    "\n",
    "c=np.arange(3,31)\n",
    "print(\"Vector or array whose values are from 3,30 is \")\n",
    "print(c)"
   ]
  },
  {
   "cell_type": "code",
   "execution_count": 12,
   "metadata": {},
   "outputs": [
    {
     "name": "stdout",
     "output_type": "stream",
     "text": [
      "The original order is \n",
      "(1, 2, 3, 4, 5)\n",
      "The reversed order is \n",
      "(5, 4, 3, 2, 1)\n"
     ]
    }
   ],
   "source": [
    "#Q4. X = (1,2,3,4,5).  Reverse and print X (1 mark)\n",
    "\n",
    "x=(1,2,3,4,5)\n",
    "print(\"The original order is \")\n",
    "print(x)\n",
    "y=x[::-1]\n",
    "print(\"The reversed order is \")\n",
    "print(y)"
   ]
  },
  {
   "cell_type": "code",
   "execution_count": 17,
   "metadata": {},
   "outputs": [
    {
     "name": "stdout",
     "output_type": "stream",
     "text": [
      "A 5x 5 matrix and values from 0 to 24 is \n",
      "[[ 0  1  2  3  4]\n",
      " [ 5  6  7  8  9]\n",
      " [10 11 12 13 14]\n",
      " [15 16 17 18 19]\n",
      " [20 21 22 23 24]]\n"
     ]
    }
   ],
   "source": [
    "#Q5. Create a 5x 5 matrix and values should be from 0 to 24 (1 mark)\n",
    "\n",
    "mat=np.arange(0,25).reshape(5,5)\n",
    "print(\"A 5x 5 matrix and values from 0 to 24 is \")\n",
    "print(mat)"
   ]
  },
  {
   "cell_type": "code",
   "execution_count": null,
   "metadata": {
    "collapsed": true
   },
   "outputs": [],
   "source": [
    "#Q6. Consider the following  matrix A1 and A2   (9 marks)\n",
    "\n",
    "\n",
    "       A1 :\n",
    "             1        3       0\n",
    "\n",
    "             2        1        1\n",
    "\n",
    "             3        4         0\n",
    "\n",
    "       A2 :\n",
    "             3        4         6\n",
    "   \n",
    "             2        1          3\n",
    "\n",
    "             1        2          8"
   ]
  },
  {
   "cell_type": "code",
   "execution_count": 21,
   "metadata": {},
   "outputs": [
    {
     "name": "stdout",
     "output_type": "stream",
     "text": [
      "Minimum of a1 is  0\n",
      "Minimum of a2 is  1\n",
      "Maximum of a1 is  4\n",
      "Maximum of a2 is  8\n"
     ]
    }
   ],
   "source": [
    "#Qa) Find min. max of the values for A1 and A2\n",
    "a1=np.array([[1,3,0],[2,1,1],[3,4,0]])\n",
    "a2=np.array([[3,4,6],[2,1,3],[1,2,8]])\n",
    "mina1=a1.min()\n",
    "print(\"Minimum of a1 is \",mina1)\n",
    "mina2=a2.min()\n",
    "print(\"Minimum of a2 is \",mina2)\n",
    "maxa1=a1.max()\n",
    "print(\"Maximum of a1 is \",maxa1)\n",
    "maxa2=a2.max()\n",
    "print(\"Maximum of a2 is \",maxa2)\n"
   ]
  },
  {
   "cell_type": "code",
   "execution_count": 18,
   "metadata": {},
   "outputs": [
    {
     "name": "stdout",
     "output_type": "stream",
     "text": [
      "The mean value for a1 is  1.66666666667\n",
      "The mean values for a2 is  3.33333333333\n"
     ]
    }
   ],
   "source": [
    "#Qb) Find the mean value for A1 and A2\n",
    "\n",
    "mean=np.mean(a1)\n",
    "print(\"The mean value for a1 is \",mean)\n",
    "mean1=np.mean(a2)\n",
    "print(\"The mean values for a2 is \",mean1)"
   ]
  },
  {
   "cell_type": "code",
   "execution_count": 22,
   "metadata": {},
   "outputs": [
    {
     "name": "stdout",
     "output_type": "stream",
     "text": [
      "[[1 3 0]\n",
      " [2 1 1]\n",
      " [3 4 0]]\n",
      "New Matrix\n",
      "[[1 3 0]\n",
      " [0 1 1]\n",
      " [0 0 0]]\n"
     ]
    }
   ],
   "source": [
    "#Qc) Make the values below the diagonal as 0.0 for A1\n",
    "\n",
    "print(a1)\n",
    "newa3=a1\n",
    "newa3[1,0]=0\n",
    "newa3[2,0]=0\n",
    "newa3[2,1]=0\n",
    "print(\"New Matrix\")\n",
    "print(newa3)"
   ]
  },
  {
   "cell_type": "code",
   "execution_count": 37,
   "metadata": {},
   "outputs": [
    {
     "name": "stdout",
     "output_type": "stream",
     "text": [
      "The resultant matrix is \n",
      "[  9.   7.  15.]\n",
      "[  9.  11.  23.]\n",
      "[ 17.  16.  30.]\n"
     ]
    }
   ],
   "source": [
    "#Qd) Multiply A1 and A2\n",
    "\n",
    "a1=np.array([[1,3,0],[2,1,1],[3,4,0]])\n",
    "a2=np.array([[3,4,6],[2,1,3],[1,2,8]])\n",
    "result=np.zeros(9).reshape(3,3)\n",
    "for i in range(len(a1)):\n",
    "    for j in range(len(a2[0])):\n",
    "         for k in range(len(a2)):\n",
    "            result[i][j] += a1[i][k] * a2[k][j]\n",
    "            \n",
    "print(\"The resultant matrix is \")\n",
    "for r in result:\n",
    "    print(r)"
   ]
  },
  {
   "cell_type": "code",
   "execution_count": 40,
   "metadata": {},
   "outputs": [
    {
     "name": "stdout",
     "output_type": "stream",
     "text": [
      "Common values between two arrays:\n",
      "[1 2 3 4]\n"
     ]
    }
   ],
   "source": [
    "#Qe) What are the common values between A1 and A2\n",
    "\n",
    "import numpy as np\n",
    "a1=np.array([1,3,0,2,1,1,3,4,0]).reshape(3,3)\n",
    "a2=np.array([3,4,6,2,1,3,1,2,8]).reshape(3,3)\n",
    "print(\"Common values between two arrays:\")\n",
    "print(np.intersect1d(a1,a2))"
   ]
  },
  {
   "cell_type": "code",
   "execution_count": 41,
   "metadata": {},
   "outputs": [
    {
     "name": "stdout",
     "output_type": "stream",
     "text": [
      "[[3 4 0]\n",
      " [2 1 1]\n",
      " [3 4 0]]\n"
     ]
    }
   ],
   "source": [
    "#Qf) Swap first and 3rd rows of A1\n",
    "\n",
    "new=a1\n",
    "temppp=new[0]\n",
    "new[0]=new[2]\n",
    "new[2]=temppp\n",
    "print(new)"
   ]
  },
  {
   "cell_type": "code",
   "execution_count": 48,
   "metadata": {},
   "outputs": [
    {
     "ename": "ValueError",
     "evalue": "object too deep for desired array",
     "output_type": "error",
     "traceback": [
      "\u001b[1;31m---------------------------------------------------------------------------\u001b[0m",
      "\u001b[1;31mValueError\u001b[0m                                Traceback (most recent call last)",
      "\u001b[1;32m<ipython-input-48-a8a1d95d3d3b>\u001b[0m in \u001b[0;36m<module>\u001b[1;34m()\u001b[0m\n\u001b[0;32m      2\u001b[0m \u001b[1;33m\u001b[0m\u001b[0m\n\u001b[0;32m      3\u001b[0m \u001b[0ma1\u001b[0m\u001b[1;33m=\u001b[0m\u001b[0mnp\u001b[0m\u001b[1;33m.\u001b[0m\u001b[0marray\u001b[0m\u001b[1;33m(\u001b[0m\u001b[1;33m[\u001b[0m\u001b[1;36m1\u001b[0m\u001b[1;33m,\u001b[0m\u001b[1;36m3\u001b[0m\u001b[1;33m,\u001b[0m\u001b[1;36m0\u001b[0m\u001b[1;33m,\u001b[0m\u001b[1;36m2\u001b[0m\u001b[1;33m,\u001b[0m\u001b[1;36m1\u001b[0m\u001b[1;33m,\u001b[0m\u001b[1;36m1\u001b[0m\u001b[1;33m,\u001b[0m\u001b[1;36m3\u001b[0m\u001b[1;33m,\u001b[0m\u001b[1;36m4\u001b[0m\u001b[1;33m,\u001b[0m\u001b[1;36m0\u001b[0m\u001b[1;33m]\u001b[0m\u001b[1;33m)\u001b[0m\u001b[1;33m.\u001b[0m\u001b[0mreshape\u001b[0m\u001b[1;33m(\u001b[0m\u001b[1;36m3\u001b[0m\u001b[1;33m,\u001b[0m\u001b[1;36m3\u001b[0m\u001b[1;33m)\u001b[0m\u001b[1;33m\u001b[0m\u001b[0m\n\u001b[1;32m----> 4\u001b[1;33m \u001b[0mcounts\u001b[0m\u001b[1;33m=\u001b[0m\u001b[0mnp\u001b[0m\u001b[1;33m.\u001b[0m\u001b[0mbincount\u001b[0m\u001b[1;33m(\u001b[0m\u001b[0ma1\u001b[0m\u001b[1;33m)\u001b[0m\u001b[1;33m\u001b[0m\u001b[0m\n\u001b[0m\u001b[0;32m      5\u001b[0m \u001b[0mprint\u001b[0m\u001b[1;33m(\u001b[0m\u001b[0mnp\u001b[0m\u001b[1;33m.\u001b[0m\u001b[0margmax\u001b[0m\u001b[1;33m(\u001b[0m\u001b[0mcounts\u001b[0m\u001b[1;33m)\u001b[0m\u001b[1;33m)\u001b[0m\u001b[1;33m\u001b[0m\u001b[0m\n\u001b[0;32m      6\u001b[0m \u001b[0ma2\u001b[0m\u001b[1;33m=\u001b[0m\u001b[0mnp\u001b[0m\u001b[1;33m.\u001b[0m\u001b[0marray\u001b[0m\u001b[1;33m(\u001b[0m\u001b[1;33m[\u001b[0m\u001b[1;36m3\u001b[0m\u001b[1;33m,\u001b[0m\u001b[1;36m4\u001b[0m\u001b[1;33m,\u001b[0m\u001b[1;36m6\u001b[0m\u001b[1;33m,\u001b[0m\u001b[1;36m2\u001b[0m\u001b[1;33m,\u001b[0m\u001b[1;36m1\u001b[0m\u001b[1;33m,\u001b[0m\u001b[1;36m3\u001b[0m\u001b[1;33m,\u001b[0m\u001b[1;36m1\u001b[0m\u001b[1;33m,\u001b[0m\u001b[1;36m2\u001b[0m\u001b[1;33m,\u001b[0m\u001b[1;36m8\u001b[0m\u001b[1;33m]\u001b[0m\u001b[1;33m)\u001b[0m\u001b[1;33m.\u001b[0m\u001b[0mreshape\u001b[0m\u001b[1;33m(\u001b[0m\u001b[1;36m3\u001b[0m\u001b[1;33m,\u001b[0m\u001b[1;36m3\u001b[0m\u001b[1;33m)\u001b[0m\u001b[1;33m\u001b[0m\u001b[0m\n",
      "\u001b[1;31mValueError\u001b[0m: object too deep for desired array"
     ]
    }
   ],
   "source": [
    "#Qg) What is the  mosft frequent numbers from A1 and A2\n",
    "\n",
    "a1=np.array([1,3,0,2,1,1,3,4,0]).reshape(3,3)\n",
    "counts=np.bincount(a1)\n",
    "print(np.argmax(counts))\n",
    "a2=np.array([3,4,6,2,1,3,1,2,8]).reshape(3,3)\n",
    "counts1=np.bincount(a2)\n",
    "print(np.argmax(counts1))\n"
   ]
  },
  {
   "cell_type": "code",
   "execution_count": 52,
   "metadata": {},
   "outputs": [
    {
     "name": "stdout",
     "output_type": "stream",
     "text": [
      "A1 value after adding an extra column\n",
      "[[ 3.  4.  0.  1.]\n",
      " [ 2.  1.  1.  1.]\n",
      " [ 3.  4.  0.  1.]]\n"
     ]
    }
   ],
   "source": [
    "#Qh) Add a column to A1 with values 1 1 1 \n",
    "\n",
    "newcol=np.ones(3).reshape(3,1)\n",
    "newmat=np.append(a1,newcol,axis=1)\n",
    "print(\"A1 value after adding an extra column\")\n",
    "print(newmat)"
   ]
  },
  {
   "cell_type": "code",
   "execution_count": 53,
   "metadata": {},
   "outputs": [
    {
     "name": "stdout",
     "output_type": "stream",
     "text": [
      "A2 value after adding an extra row\n",
      "[[3 4 6]\n",
      " [2 1 3]\n",
      " [1 2 8]\n",
      " [2 2 2]]\n"
     ]
    }
   ],
   "source": [
    "#Qi) Add a row to A2 with 2 2 2\n",
    "\n",
    "newrow=np.full([1,3],2)\n",
    "newwmat=np.append(a2,newrow,axis=0)\n",
    "print(\"A2 value after adding an extra row\")\n",
    "print(newwmat)"
   ]
  },
  {
   "cell_type": "code",
   "execution_count": 30,
   "metadata": {},
   "outputs": [
    {
     "name": "stdout",
     "output_type": "stream",
     "text": [
      "1.Multiplication\n",
      "2.Addition\n",
      "Enter your choice 2\n",
      "The additon result is \n",
      "[ 4.  7.  6.]\n",
      "[ 4.  2.  4.]\n",
      "[ 4.  6.  8.]\n"
     ]
    }
   ],
   "source": [
    "#Q7. Write a function for matrix multiplications and additions. Use A1 and A2 to test.\n",
    "def multi(a1,a2,resultmul):\n",
    "    for i in range(len(a1)):\n",
    "        for j in range(len(a2[0])):\n",
    "            for k in range(len(a2)):\n",
    "                resultmul[i][j]+= a1[i][k] * a2[k][j]\n",
    "    for r in resultmul:\n",
    "        print(r)\n",
    "        \n",
    "def addition(a1,a2,resultadd):\n",
    "    for i in range(len(a1)):\n",
    "        for j in range(len(a2)):\n",
    "            resultadd[i][j]=a1[i][j]+a2[i][j]\n",
    "    for d in resultadd:\n",
    "        print(d)\n",
    "                \n",
    "a1=np.array([[1,3,0],[2,1,1],[3,4,0]])\n",
    "a2=np.array([[3,4,6],[2,1,3],[1,2,8]])\n",
    "resultmul=np.zeros(9).reshape(3,3)\n",
    "resultadd=np.zeros(9).reshape(3,3)\n",
    "print(\"1.Multiplication\")\n",
    "print(\"2.Addition\")\n",
    "ch=int(input(\"Enter your choice \"))\n",
    "if(ch==1):\n",
    "    print(\"The multiplicaton result is \")\n",
    "    multi(a1,a2,resultmul)\n",
    "if(ch==2):\n",
    "    print(\"The additon result is \")\n",
    "    addition(a1,a2,resultadd)"
   ]
  },
  {
   "cell_type": "code",
   "execution_count": 13,
   "metadata": {},
   "outputs": [
    {
     "name": "stdout",
     "output_type": "stream",
     "text": [
      "sorted array is \n",
      "1.10 \n",
      "2.00 \n",
      "3.00 \n",
      "10.00 \n",
      "11.50 \n",
      "17.60 \n",
      "18.90 \n",
      "21.50 \n",
      "22.60 \n",
      "22.80 \n"
     ]
    }
   ],
   "source": [
    "#Q8. Write a bubble sort program with normal Python  for 10 floating point numbers\n",
    "\n",
    "def bubble(num):\n",
    "    n = len(num)\n",
    "    for i in range(n):\n",
    "        for j in range(0, n-i-1):\n",
    "            if num[j] > num[j+1] :\n",
    "                num[j], num[j+1] = num[j+1], num[j]\n",
    "                \n",
    "\n",
    "num=[10.0,11.5,2.0,3.0,17.6,22.8,22.6,21.5,18.9,1.1]\n",
    "bubble(num)\n",
    "print(\"sorted array is \")\n",
    "for i in range (len(num)):\n",
    "    print(\"%.2f \"%num[i])\n"
   ]
  },
  {
   "cell_type": "code",
   "execution_count": null,
   "metadata": {
    "collapsed": true
   },
   "outputs": [],
   "source": []
  }
 ],
 "metadata": {
  "kernelspec": {
   "display_name": "Python 3",
   "language": "python",
   "name": "python3"
  },
  "language_info": {
   "codemirror_mode": {
    "name": "ipython",
    "version": 3
   },
   "file_extension": ".py",
   "mimetype": "text/x-python",
   "name": "python",
   "nbconvert_exporter": "python",
   "pygments_lexer": "ipython3",
   "version": "3.6.2"
  }
 },
 "nbformat": 4,
 "nbformat_minor": 2
}
