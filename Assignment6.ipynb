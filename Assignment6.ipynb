{
 "cells": [
  {
   "cell_type": "code",
   "execution_count": null,
   "metadata": {
    "collapsed": true
   },
   "outputs": [],
   "source": [
    "Q3. Write a Python class to implement pow(x, n)."
   ]
  },
  {
   "cell_type": "code",
   "execution_count": 36,
   "metadata": {},
   "outputs": [
    {
     "name": "stdout",
     "output_type": "stream",
     "text": [
      "64\n"
     ]
    }
   ],
   "source": [
    "class powerr:\n",
    "    def __init__(self,num,power):\n",
    "        self.num=num\n",
    "        self.power=power\n",
    "v=powerr(2,5)\n",
    "calc(v.num,v.power)\n",
    "def calc(a,b):\n",
    "    res=v.num\n",
    "    for i in range(1,v.power+1):\n",
    "        res=res*v.num\n",
    "    print(res)"
   ]
  },
  {
   "cell_type": "code",
   "execution_count": null,
   "metadata": {
    "collapsed": true
   },
   "outputs": [],
   "source": [
    "Q4. Write a Python class to reverse a string word by word."
   ]
  },
  {
   "cell_type": "code",
   "execution_count": 47,
   "metadata": {},
   "outputs": [
    {
     "name": "stdout",
     "output_type": "stream",
     "text": [
      "Enter the name heko fjsgh jksf\n",
      "jksf fjsgh heko\n"
     ]
    }
   ],
   "source": [
    "class person:\n",
    "    def reverse(self,name):\n",
    "        rev=name.split()\n",
    "        rev=rev[-1::-1]\n",
    "        result=\" \".join(rev)\n",
    "        return result\n",
    "\n",
    "name=input(\"Enter the name \")\n",
    "print(person().reverse(name))"
   ]
  },
  {
   "cell_type": "code",
   "execution_count": null,
   "metadata": {
    "collapsed": true
   },
   "outputs": [],
   "source": []
  },
  {
   "cell_type": "code",
   "execution_count": null,
   "metadata": {
    "collapsed": true
   },
   "outputs": [],
   "source": []
  }
 ],
 "metadata": {
  "kernelspec": {
   "display_name": "Python 3",
   "language": "python",
   "name": "python3"
  },
  "language_info": {
   "codemirror_mode": {
    "name": "ipython",
    "version": 3
   },
   "file_extension": ".py",
   "mimetype": "text/x-python",
   "name": "python",
   "nbconvert_exporter": "python",
   "pygments_lexer": "ipython3",
   "version": "3.6.2"
  }
 },
 "nbformat": 4,
 "nbformat_minor": 2
}
