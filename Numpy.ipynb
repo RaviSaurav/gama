{
 "cells": [
  {
   "cell_type": "code",
   "execution_count": null,
   "metadata": {
    "collapsed": true
   },
   "outputs": [],
   "source": [
    "1.Write a Python program to convert a list of numeric value into a one-dimensional NumPy array."
   ]
  },
  {
   "cell_type": "code",
   "execution_count": 5,
   "metadata": {},
   "outputs": [
    {
     "name": "stdout",
     "output_type": "stream",
     "text": [
      "The list contents are  [1, 2, 3, 4, 5, 6, 7, 8]\n",
      "The array contents are  [1 2 3 4 5 6 7 8]\n"
     ]
    }
   ],
   "source": [
    "import numpy as np\n",
    "list1=[1,2,3,4,5,6,7,8]\n",
    "print(\"The list contents are \",list1)\n",
    "a=np.array(list1)\n",
    "print(\"The array contents are \",a)"
   ]
  },
  {
   "cell_type": "code",
   "execution_count": null,
   "metadata": {
    "collapsed": true
   },
   "outputs": [],
   "source": [
    "2.Create a 3x3 matrix with values ranging from 2 to 10."
   ]
  },
  {
   "cell_type": "code",
   "execution_count": 13,
   "metadata": {},
   "outputs": [
    {
     "name": "stdout",
     "output_type": "stream",
     "text": [
      "[[ 2  3  4]\n",
      " [ 5  6  7]\n",
      " [ 8  9 10]]\n"
     ]
    }
   ],
   "source": [
    "a=np.arange(2,11).reshape(3,3)\n",
    "print(a)"
   ]
  },
  {
   "cell_type": "code",
   "execution_count": null,
   "metadata": {
    "collapsed": true
   },
   "outputs": [],
   "source": [
    "3.Write a Python program to create a null vector of size 10 and update sixth value to 11."
   ]
  },
  {
   "cell_type": "code",
   "execution_count": 19,
   "metadata": {},
   "outputs": [
    {
     "name": "stdout",
     "output_type": "stream",
     "text": [
      "The null vector is  [ 0.  0.  0.  0.  0.  0.  0.  0.  0.  0.]\n",
      "The vector after updating sixth value is  [  0.   0.   0.   0.   0.  11.   0.   0.   0.   0.]\n"
     ]
    }
   ],
   "source": [
    "a=np.zeros(10)\n",
    "print(\"The null vector is \",a)\n",
    "a[5]=11\n",
    "print(\"The vector after updating sixth value is \",a)"
   ]
  },
  {
   "cell_type": "code",
   "execution_count": null,
   "metadata": {
    "collapsed": true
   },
   "outputs": [],
   "source": [
    "4.Write a Python program to create a array with values ranging from 12 to 38."
   ]
  },
  {
   "cell_type": "code",
   "execution_count": 25,
   "metadata": {},
   "outputs": [
    {
     "name": "stdout",
     "output_type": "stream",
     "text": [
      "Array with value ranging from 12 to 38\n",
      "[12 14 16 18 20 22 24 26 28 30 32 34 36 38]\n"
     ]
    }
   ],
   "source": [
    "a=np.arange(12,39,2)\n",
    "print(\"Array with value ranging from 12 to 38\")\n",
    "print(a)"
   ]
  },
  {
   "cell_type": "code",
   "execution_count": null,
   "metadata": {
    "collapsed": true
   },
   "outputs": [],
   "source": [
    "5.Write a Python program to reverse an array (first element becomes last)."
   ]
  },
  {
   "cell_type": "code",
   "execution_count": 37,
   "metadata": {},
   "outputs": [
    {
     "name": "stdout",
     "output_type": "stream",
     "text": [
      "The original array is\n",
      "[12 14 16 18 20 22 24 26 28]\n",
      "The reversed array is\n",
      "[28 26 24 22 20 18 16 14 12]\n"
     ]
    }
   ],
   "source": [
    "arr = np.arange(12,30,2)\n",
    "print(\"The original array is\")\n",
    "print(arr)\n",
    "rev = arr[::-1]\n",
    "print(\"The reversed array is\")\n",
    "print(rev)"
   ]
  },
  {
   "cell_type": "code",
   "execution_count": null,
   "metadata": {
    "collapsed": true
   },
   "outputs": [],
   "source": [
    "6.Write a Python program to an int array converted to a float type."
   ]
  },
  {
   "cell_type": "code",
   "execution_count": 43,
   "metadata": {},
   "outputs": [
    {
     "name": "stdout",
     "output_type": "stream",
     "text": [
      "The integer array is\n",
      "[1 2 3 4 5]\n",
      "The converted float type is\n",
      "[ 1.  2.  3.  4.  5.]\n"
     ]
    }
   ],
   "source": [
    "arr=np.array([1,2,3,4,5])\n",
    "print(\"The integer array is\")\n",
    "print(arr)\n",
    "b=arr.astype(float)\n",
    "print(\"The converted float type is\")\n",
    "print(b)"
   ]
  },
  {
   "cell_type": "code",
   "execution_count": null,
   "metadata": {
    "collapsed": true
   },
   "outputs": [],
   "source": [
    "7.Write a Python program to create a 2d array (5x5) with 1 on the border and 0 inside."
   ]
  },
  {
   "cell_type": "code",
   "execution_count": 51,
   "metadata": {},
   "outputs": [
    {
     "name": "stdout",
     "output_type": "stream",
     "text": [
      "[[ 1.  1.  1.  1.  1.]\n",
      " [ 1.  0.  0.  0.  1.]\n",
      " [ 1.  0.  0.  0.  1.]\n",
      " [ 1.  0.  0.  0.  1.]\n",
      " [ 1.  1.  1.  1.  1.]]\n"
     ]
    }
   ],
   "source": [
    "arr=np.ones(25).reshape(5,5)\n",
    "arr[1:4,1:4]=0\n",
    "print(arr)"
   ]
  },
  {
   "cell_type": "code",
   "execution_count": null,
   "metadata": {
    "collapsed": true
   },
   "outputs": [],
   "source": [
    "8.Write a Python program to find the number of elements of an array, length of one array element in bytes and total bytes consumed by the elements."
   ]
  },
  {
   "cell_type": "code",
   "execution_count": 56,
   "metadata": {},
   "outputs": [
    {
     "name": "stdout",
     "output_type": "stream",
     "text": [
      "[ 2  5  8 11 14 17 20 23 26 29 32 35 38 41 44 47]\n",
      "The total number of elements in array are  16\n",
      "Length of one array element in bytes  4\n",
      "Total bytes consumed by elements  64\n"
     ]
    }
   ],
   "source": [
    "a=np.arange(2,50,3)\n",
    "print(a)\n",
    "print(\"The total number of elements in array are \",a.size)\n",
    "print(\"Length of one array element in bytes \",a.itemsize)\n",
    "print(\"Total bytes consumed by elements \",a.nbytes)"
   ]
  },
  {
   "cell_type": "code",
   "execution_count": null,
   "metadata": {
    "collapsed": true
   },
   "outputs": [],
   "source": [
    "9.Write a Python program to create a function cube which cubes all the elements of an array."
   ]
  },
  {
   "cell_type": "code",
   "execution_count": 69,
   "metadata": {},
   "outputs": [
    {
     "name": "stdout",
     "output_type": "stream",
     "text": [
      "The array elements are  [1 2 3 4 5 6 7 8]\n",
      "The cube of array elements are  [  1   8  27  64 125 216 343 512]\n"
     ]
    }
   ],
   "source": [
    "c=[]\n",
    "def cubee(b):\n",
    "    for x in range (len(b)):\n",
    "            c.append(b[x]**3)\n",
    "    return c\n",
    "a=np.array([1,2,3,4,5,6,7,8])\n",
    "print(\"The array elements are \",a)\n",
    "cubee(a)\n",
    "cub=np.array(c)\n",
    "print(\"The cube of array elements are \",cub)"
   ]
  },
  {
   "cell_type": "code",
   "execution_count": null,
   "metadata": {
    "collapsed": true
   },
   "outputs": [],
   "source": [
    "10.Write a Python program to how to add an extra column to an numpy array."
   ]
  },
  {
   "cell_type": "code",
   "execution_count": 91,
   "metadata": {},
   "outputs": [
    {
     "name": "stdout",
     "output_type": "stream",
     "text": [
      "Fisrt array is \n",
      "[[2 3 4 5]\n",
      " [6 7 8 9]]\n",
      "Second array is \n",
      "[[10]\n",
      " [11]]\n",
      "The resulting array is \n",
      "[[ 2  3  4  5 10]\n",
      " [ 6  7  8  9 11]]\n"
     ]
    }
   ],
   "source": [
    "a=np.arange(2,10).reshape(2,4)\n",
    "print(\"Fisrt array is \")\n",
    "print(a)\n",
    "b=np.arange(10,12).reshape(2,1)\n",
    "print(\"Second array is \")\n",
    "print(b)\n",
    "c=np.append(a,b,axis=1)\n",
    "print(\"The resulting array is \")\n",
    "print(c)"
   ]
  },
  {
   "cell_type": "code",
   "execution_count": null,
   "metadata": {
    "collapsed": true
   },
   "outputs": [],
   "source": [
    "11.Write a Python program to remove the negative values in a numpy array with 0."
   ]
  },
  {
   "cell_type": "code",
   "execution_count": 113,
   "metadata": {},
   "outputs": [
    {
     "name": "stdout",
     "output_type": "stream",
     "text": [
      "The array with negative values is \n",
      "[ 2  4  5 -1  6  9 -6  9 -2 -4]\n",
      "The array after removing negative values are \n",
      "[2 4 5 0 6 9 0 9 0 0]\n"
     ]
    }
   ],
   "source": [
    "a=np.array([2,4,5,-1,6,9,-6,9,-2,-4])\n",
    "print(\"The array with negative values is \")\n",
    "print(a)\n",
    "for i in range (len(a)):\n",
    "    if(a[i]<0):\n",
    "        a[i]=0\n",
    "\n",
    "print(\"The array after removing negative values are \")\n",
    "print(a)"
   ]
  },
  {
   "cell_type": "code",
   "execution_count": null,
   "metadata": {
    "collapsed": true
   },
   "outputs": [],
   "source": [
    "12.Create a  one dimensional array with 3 elements. Extend the array by repeating the current elements, 3 times."
   ]
  },
  {
   "cell_type": "code",
   "execution_count": 119,
   "metadata": {},
   "outputs": [
    {
     "data": {
      "text/plain": [
       "array([1, 2, 3, 1, 2, 3, 1, 2, 3])"
      ]
     },
     "execution_count": 119,
     "metadata": {},
     "output_type": "execute_result"
    }
   ],
   "source": [
    "a=np.array([1,2,3])\n",
    "np.tile(a,3)"
   ]
  },
  {
   "cell_type": "code",
   "execution_count": null,
   "metadata": {
    "collapsed": true
   },
   "outputs": [],
   "source": [
    "13.Write a Python program compare two arrays using numpy."
   ]
  },
  {
   "cell_type": "code",
   "execution_count": 118,
   "metadata": {},
   "outputs": [
    {
     "name": "stdout",
     "output_type": "stream",
     "text": [
      "Array First \n",
      "Array Second \n",
      "a>b\n",
      "[False False False False]\n",
      "a<b\n",
      "[ True  True  True  True]\n",
      "a=b\n",
      "[False False False False]\n"
     ]
    }
   ],
   "source": [
    "a=np.array([1,2,3,4])\n",
    "b=np.array([5,6,7,8])\n",
    "print(\"Array First \")\n",
    "print(\"Array Second \")\n",
    "print(\"a>b\")\n",
    "print(np.greater(a,b))\n",
    "print(\"a<b\")\n",
    "print(np.less(a,b))\n",
    "print(\"a=b\")\n",
    "print(np.equal(a,b))"
   ]
  },
  {
   "cell_type": "code",
   "execution_count": null,
   "metadata": {
    "collapsed": true
   },
   "outputs": [],
   "source": [
    "14.Write a Python program to find the memory size of a NumPy array."
   ]
  },
  {
   "cell_type": "code",
   "execution_count": null,
   "metadata": {
    "collapsed": true
   },
   "outputs": [],
   "source": [
    "Same as question 8"
   ]
  },
  {
   "cell_type": "code",
   "execution_count": null,
   "metadata": {
    "collapsed": true
   },
   "outputs": [],
   "source": [
    "15.Create a 3x5 array with random elements. Reshape this into 5x3. "
   ]
  },
  {
   "cell_type": "code",
   "execution_count": 86,
   "metadata": {},
   "outputs": [
    {
     "name": "stdout",
     "output_type": "stream",
     "text": [
      "3*5 array with random elements\n",
      "[[ 0.07113412  0.48490699  0.07690927  0.82941259  0.54734777]\n",
      " [ 0.75653534  0.3830057   0.58971384  0.95404086  0.65873117]\n",
      " [ 0.96801692  0.8188013   0.26041023  0.18347726  0.75110092]]\n",
      "5*3 array with same elements\n",
      "[[ 0.07113412  0.48490699  0.07690927]\n",
      " [ 0.82941259  0.54734777  0.75653534]\n",
      " [ 0.3830057   0.58971384  0.95404086]\n",
      " [ 0.65873117  0.96801692  0.8188013 ]\n",
      " [ 0.26041023  0.18347726  0.75110092]]\n"
     ]
    }
   ],
   "source": [
    "a=np.random.rand(3,5)\n",
    "print(\"3*5 array with random elements\")\n",
    "print(a)\n",
    "print(\"5*3 array with same elements\")\n",
    "b=a.reshape(5,3)\n",
    "print(b)"
   ]
  },
  {
   "cell_type": "code",
   "execution_count": null,
   "metadata": {
    "collapsed": true
   },
   "outputs": [],
   "source": [
    "16.Write a Python program to create a 3-D array [6x6x6] with ones on diagonals and zeros elsewhere"
   ]
  },
  {
   "cell_type": "code",
   "execution_count": 63,
   "metadata": {},
   "outputs": [
    {
     "name": "stdout",
     "output_type": "stream",
     "text": [
      "(6, 6, 6)\n",
      "[[[ 1.  0.  0.  0.  0.  0.]\n",
      "  [ 0.  1.  0.  0.  0.  0.]\n",
      "  [ 0.  0.  1.  0.  0.  0.]\n",
      "  [ 0.  0.  0.  1.  0.  0.]\n",
      "  [ 0.  0.  0.  0.  1.  0.]\n",
      "  [ 0.  0.  0.  0.  0.  1.]]\n",
      "\n",
      " [[ 1.  0.  0.  0.  0.  0.]\n",
      "  [ 0.  1.  0.  0.  0.  0.]\n",
      "  [ 0.  0.  1.  0.  0.  0.]\n",
      "  [ 0.  0.  0.  1.  0.  0.]\n",
      "  [ 0.  0.  0.  0.  1.  0.]\n",
      "  [ 0.  0.  0.  0.  0.  1.]]\n",
      "\n",
      " [[ 1.  0.  0.  0.  0.  0.]\n",
      "  [ 0.  1.  0.  0.  0.  0.]\n",
      "  [ 0.  0.  1.  0.  0.  0.]\n",
      "  [ 0.  0.  0.  1.  0.  0.]\n",
      "  [ 0.  0.  0.  0.  1.  0.]\n",
      "  [ 0.  0.  0.  0.  0.  1.]]\n",
      "\n",
      " [[ 1.  0.  0.  0.  0.  0.]\n",
      "  [ 0.  1.  0.  0.  0.  0.]\n",
      "  [ 0.  0.  1.  0.  0.  0.]\n",
      "  [ 0.  0.  0.  1.  0.  0.]\n",
      "  [ 0.  0.  0.  0.  1.  0.]\n",
      "  [ 0.  0.  0.  0.  0.  1.]]\n",
      "\n",
      " [[ 1.  0.  0.  0.  0.  0.]\n",
      "  [ 0.  1.  0.  0.  0.  0.]\n",
      "  [ 0.  0.  1.  0.  0.  0.]\n",
      "  [ 0.  0.  0.  1.  0.  0.]\n",
      "  [ 0.  0.  0.  0.  1.  0.]\n",
      "  [ 0.  0.  0.  0.  0.  1.]]\n",
      "\n",
      " [[ 1.  0.  0.  0.  0.  0.]\n",
      "  [ 0.  1.  0.  0.  0.  0.]\n",
      "  [ 0.  0.  1.  0.  0.  0.]\n",
      "  [ 0.  0.  0.  1.  0.  0.]\n",
      "  [ 0.  0.  0.  0.  1.  0.]\n",
      "  [ 0.  0.  0.  0.  0.  1.]]]\n"
     ]
    }
   ],
   "source": [
    "a=np.eye(6)\n",
    "b=np.array([a]*6)\n",
    "print(b.shape)\n",
    "print(b)"
   ]
  },
  {
   "cell_type": "code",
   "execution_count": null,
   "metadata": {
    "collapsed": true
   },
   "outputs": [],
   "source": [
    "17. The following table includes marks of students in various subjects.  Each row corresponds to a student [ Rajesh, Rima, Ram and Joseph]  coulmn correspond to a subject [Maths, Physics, Chemistry, Sociology]\n",
    "\n",
    "15 . 20 .   25  12\n",
    "45 .  50 .  50 . 48\n",
    "8 .    7 .   3 .    2\n",
    "28 .  32 . 40 .  39\n",
    "\n",
    "Do the following \n",
    "A.\n",
    "1. FInd the mean, median, mode and standard deviation for marks of each subject\n",
    "2. What is the minimum and maximum of each subject?\n",
    "3. Print the subject in  each student good at and poor at ?\n",
    "4. What is the overall class mean, mode, median and standard deviation\n",
    "\n",
    "B.\n",
    "Teacher just announced the marks of English. They are 40, 49, 10 and 35 for eah student.\n",
    "\n",
    "Re-calculate all subparts of A.\n",
    "\n",
    "C. A new student joined the class. For the time being, the scores are going to be zero for each student. \n",
    "\n",
    "Re-calculate A again with the new student.\n",
    "\n",
    "D. Print the current score card for the class"
   ]
  },
  {
   "cell_type": "code",
   "execution_count": null,
   "metadata": {
    "collapsed": true
   },
   "outputs": [],
   "source": [
    "Q.1. FInd the mean, median, mode and standard deviation for marks of each subject"
   ]
  },
  {
   "cell_type": "code",
   "execution_count": 52,
   "metadata": {},
   "outputs": [
    {
     "name": "stdout",
     "output_type": "stream",
     "text": [
      "The mean for following subjects are :\n",
      "Maths 24.0\n",
      "Physics 27.25\n",
      "Chemistry 29.5\n",
      "Sociology 25.25\n",
      "\n",
      "\n",
      "The median of subjects are :\n",
      "Maths 21.5\n",
      "Physics 26.0\n",
      "Chemistry 32.5\n",
      "Sociology 25.5\n",
      "\n",
      "\n",
      "The mode of subjects is : [[8 7 3 2]]\n",
      "\n",
      "\n",
      "The standard deviation of subjects are :\n",
      "Maths 14.0890028036\n",
      "Physics 15.8331140336\n",
      "Chemistry 17.6988700204\n",
      "Sociology 18.8596792125\n"
     ]
    }
   ],
   "source": [
    "import numpy as np\n",
    "from scipy import stats\n",
    "list1=[\"Maths\",\"Physics\",\"Chemistry\",\"Sociology\"]\n",
    "marks=np.array([[15,20,25,12],[45,50,50,48],[8,7,3,2],[28,32,40,39]])\n",
    "\n",
    "mean=np.mean(marks,axis=0)\n",
    "print(\"The mean for following subjects are :\")\n",
    "for x in range(len(list1)):\n",
    "        print(list1[x], mean[x])\n",
    "print(\"\\n\")\n",
    "\n",
    "med=np.median(marks,axis=0)\n",
    "print(\"The median of subjects are :\")\n",
    "for x in range(len(list1)):\n",
    "        print(list1[x], med[x])\n",
    "print(\"\\n\")\n",
    "\n",
    "m=stats.mode(marks,axis=0)\n",
    "print(\"The mode of subjects is :\",m[0])\n",
    "print(\"\\n\")\n",
    "\n",
    "std=np.std(marks,axis=0)\n",
    "print(\"The standard deviation of subjects are :\")\n",
    "for x in range(len(list1)):\n",
    "        print(list1[x], std[x])"
   ]
  },
  {
   "cell_type": "code",
   "execution_count": null,
   "metadata": {
    "collapsed": true
   },
   "outputs": [],
   "source": [
    "2. What is the minimum and maximum of each subject?"
   ]
  },
  {
   "cell_type": "code",
   "execution_count": 29,
   "metadata": {},
   "outputs": [
    {
     "name": "stdout",
     "output_type": "stream",
     "text": [
      "The minimum of subjects are :\n",
      "Maths 8\n",
      "Physics 7\n",
      "Chemistry 3\n",
      "Sociology 2\n",
      "\n",
      "\n",
      "The maximum of subjects are :\n",
      "Maths 45\n",
      "Physics 50\n",
      "Chemistry 50\n",
      "Sociology 48\n"
     ]
    }
   ],
   "source": [
    "list1=[\"Maths\",\"Physics\",\"Chemistry\",\"Sociology\"]\n",
    "marks=np.array([[15,20,25,12],[45,50,50,48],[8,7,3,2],[28,32,40,39]])\n",
    "minimum=np.min(marks,axis=0)\n",
    "print(\"The minimum of subjects are :\")\n",
    "for x in range(len(list1)):\n",
    "        print(list1[x], minimum[x])\n",
    "print(\"\\n\")\n",
    "maximum=np.max(marks,axis=0)\n",
    "print(\"The maximum of subjects are :\")\n",
    "for x in range(len(list1)):\n",
    "        print(list1[x], maximum[x])"
   ]
  },
  {
   "cell_type": "code",
   "execution_count": null,
   "metadata": {
    "collapsed": true
   },
   "outputs": [],
   "source": [
    "3. Print the subject in  each student good at and poor at ?"
   ]
  },
  {
   "cell_type": "code",
   "execution_count": 60,
   "metadata": {},
   "outputs": [
    {
     "name": "stdout",
     "output_type": "stream",
     "text": [
      "Rajesh is good in chemistry and bad in sociology\n",
      "Rima is good in physics and bad in maths\n",
      "Ram is good in maths and bad in sociology\n",
      "Joseph is good in chemistry and bad in maths\n"
     ]
    }
   ],
   "source": [
    "sub=[\"maths\",\"physics\",\"chemistry\",\"sociology\"]\n",
    "print(\"Rajesh is good in %s and bad in %s\"%(sub[marks[0].argmax()],sub[marks[0].argmin()]))\n",
    "print(\"Rima is good in %s and bad in %s\"%(sub[marks[1].argmax()],sub[marks[1].argmin()]))\n",
    "print(\"Ram is good in %s and bad in %s\"%(sub[marks[2].argmax()],sub[marks[2].argmin()]))\n",
    "print(\"Joseph is good in %s and bad in %s\"%(sub[marks[3].argmax()],sub[marks[3].argmin()]))"
   ]
  },
  {
   "cell_type": "code",
   "execution_count": null,
   "metadata": {
    "collapsed": true
   },
   "outputs": [],
   "source": [
    "4. What is the overall class mean, mode, median and standard deviation"
   ]
  },
  {
   "cell_type": "code",
   "execution_count": 31,
   "metadata": {},
   "outputs": [
    {
     "name": "stdout",
     "output_type": "stream",
     "text": [
      "The mean of overall class is:  26.5\n",
      "The median of overall class is:  26.5\n",
      "The mode of overall class is:  [[8 7 3 2]]\n",
      "The standard deviation of overall class is:  16.8485904455\n"
     ]
    }
   ],
   "source": [
    "mean=np.mean(marks)\n",
    "print(\"The mean of overall class is: \",mean)\n",
    "med=np.median(marks)\n",
    "print(\"The median of overall class is: \",med)\n",
    "m=stats.mode(marks)\n",
    "print(\"The mode of overall class is: \",m[0])\n",
    "std=np.std(marks)\n",
    "print(\"The standard deviation of overall class is: \",std)"
   ]
  },
  {
   "cell_type": "code",
   "execution_count": null,
   "metadata": {
    "collapsed": true
   },
   "outputs": [],
   "source": [
    "B. Teacher just announced the marks of English. They are 40, 49, 10 and 35 for eah student."
   ]
  },
  {
   "cell_type": "code",
   "execution_count": null,
   "metadata": {
    "collapsed": true
   },
   "outputs": [],
   "source": [
    "1. FInd the mean, median, mode and standard deviation for marks of each subject"
   ]
  },
  {
   "cell_type": "code",
   "execution_count": 38,
   "metadata": {},
   "outputs": [
    {
     "name": "stdout",
     "output_type": "stream",
     "text": [
      "The mean for following subjects are :\n",
      "Maths 24.0\n",
      "Physics 27.25\n",
      "Chemistry 29.5\n",
      "Sociology 25.25\n",
      "English 33.5\n",
      "\n",
      "\n",
      "The median of subjects are :\n",
      "Maths 21.5\n",
      "Physics 26.0\n",
      "Chemistry 32.5\n",
      "Sociology 25.5\n",
      "English 37.5\n",
      "\n",
      "\n",
      "The mode of subjects is : [[ 8  7  3  2 10]]\n",
      "\n",
      "\n",
      "The standard deviation of subjects are :\n",
      "Maths 14.0890028036\n",
      "Physics 15.8331140336\n",
      "Chemistry 17.6988700204\n",
      "Sociology 18.8596792125\n",
      "English 14.4654761415\n"
     ]
    }
   ],
   "source": [
    "list2=[\"Maths\",\"Physics\",\"Chemistry\",\"Sociology\",\"English\"]\n",
    "newmarks=np.array([40,49,10,35]).reshape(4,1)\n",
    "markss=np.append(marks,newmarks,axis=1)\n",
    "nmean=np.mean(markss,axis=0)\n",
    "print(\"The mean for following subjects are :\")\n",
    "for x in range(5):\n",
    "        print(list2[x], nmean[x])\n",
    "print(\"\\n\")\n",
    "\n",
    "nmed=np.median(markss,axis=0)\n",
    "print(\"The median of subjects are :\")\n",
    "for x in range(len(list2)):\n",
    "        print(list2[x], nmed[x])\n",
    "print(\"\\n\")\n",
    "\n",
    "nm=stats.mode(markss,axis=0)\n",
    "print(\"The mode of subjects is :\",nm[0])\n",
    "print(\"\\n\")\n",
    "\n",
    "nstd=np.std(markss,axis=0)\n",
    "print(\"The standard deviation of subjects are :\")\n",
    "for x in range(len(list2)):\n",
    "        print(list2[x], nstd[x])"
   ]
  },
  {
   "cell_type": "code",
   "execution_count": null,
   "metadata": {
    "collapsed": true
   },
   "outputs": [],
   "source": [
    "2. What is the minimum and maximum of each subject?"
   ]
  },
  {
   "cell_type": "code",
   "execution_count": 39,
   "metadata": {},
   "outputs": [
    {
     "name": "stdout",
     "output_type": "stream",
     "text": [
      "The minimum of subjects are :\n",
      "Maths 8\n",
      "Physics 7\n",
      "Chemistry 3\n",
      "Sociology 2\n",
      "English 10\n",
      "\n",
      "\n",
      "The maximum of subjects are :\n",
      "Maths 45\n",
      "Physics 50\n",
      "Chemistry 50\n",
      "Sociology 48\n",
      "English 49\n"
     ]
    }
   ],
   "source": [
    "minimum=np.min(markss,axis=0)\n",
    "print(\"The minimum of subjects are :\")\n",
    "for x in range(len(list2)):\n",
    "        print(list2[x], minimum[x])\n",
    "print(\"\\n\")\n",
    "maximum=np.max(markss,axis=0)\n",
    "print(\"The maximum of subjects are :\")\n",
    "for x in range(len(list2)):\n",
    "        print(list2[x], maximum[x])"
   ]
  },
  {
   "cell_type": "code",
   "execution_count": null,
   "metadata": {
    "collapsed": true
   },
   "outputs": [],
   "source": [
    "3. Print the subject in  each student good at and poor at ?"
   ]
  },
  {
   "cell_type": "code",
   "execution_count": 61,
   "metadata": {},
   "outputs": [
    {
     "name": "stdout",
     "output_type": "stream",
     "text": [
      "Rajesh is good in English and bad in sociology\n",
      "Rima is good in physics and bad in maths\n",
      "Ram is good in English and bad in sociology\n",
      "Joseph is good in chemistry and bad in maths\n"
     ]
    }
   ],
   "source": [
    "sub=[\"maths\",\"physics\",\"chemistry\",\"sociology\",\"English\"]\n",
    "print(\"Rajesh is good in %s and bad in %s\"%(sub[markss[0].argmax()],sub[markss[0].argmin()]))\n",
    "print(\"Rima is good in %s and bad in %s\"%(sub[markss[1].argmax()],sub[markss[1].argmin()]))\n",
    "print(\"Ram is good in %s and bad in %s\"%(sub[markss[2].argmax()],sub[markss[2].argmin()]))\n",
    "print(\"Joseph is good in %s and bad in %s\"%(sub[markss[3].argmax()],sub[markss[3].argmin()]))"
   ]
  },
  {
   "cell_type": "code",
   "execution_count": null,
   "metadata": {
    "collapsed": true
   },
   "outputs": [],
   "source": [
    "4. What is the overall class mean, mode, median and standard deviation"
   ]
  },
  {
   "cell_type": "code",
   "execution_count": 40,
   "metadata": {},
   "outputs": [
    {
     "name": "stdout",
     "output_type": "stream",
     "text": [
      "The mean of overall class is:  27.9\n",
      "The median of overall class is:  30.0\n",
      "The mode of overall class is:  [[ 8  7  3  2 10]]\n",
      "The standard deviation of overall class is:  16.6370069424\n"
     ]
    }
   ],
   "source": [
    "mean=np.mean(markss)\n",
    "print(\"The mean of overall class is: \",mean)\n",
    "med=np.median(markss)\n",
    "print(\"The median of overall class is: \",med)\n",
    "m=stats.mode(markss)\n",
    "print(\"The mode of overall class is: \",m[0])\n",
    "std=np.std(markss)\n",
    "print(\"The standard deviation of overall class is: \",std)"
   ]
  },
  {
   "cell_type": "code",
   "execution_count": null,
   "metadata": {
    "collapsed": true
   },
   "outputs": [],
   "source": [
    "C. A new student joined the class. For the time being, the scores are going to be zero for each student. "
   ]
  },
  {
   "cell_type": "code",
   "execution_count": null,
   "metadata": {
    "collapsed": true
   },
   "outputs": [],
   "source": [
    "1. FInd the mean, median, mode and standard deviation for marks of each subject"
   ]
  },
  {
   "cell_type": "code",
   "execution_count": 45,
   "metadata": {},
   "outputs": [
    {
     "name": "stdout",
     "output_type": "stream",
     "text": [
      "The mean for following subjects are :\n",
      "Maths 19.2\n",
      "Physics 21.8\n",
      "Chemistry 23.6\n",
      "Sociology 20.2\n",
      "English 26.8\n",
      "\n",
      "\n",
      "The median of subjects are :\n",
      "Maths 15.0\n",
      "Physics 20.0\n",
      "Chemistry 25.0\n",
      "Sociology 12.0\n",
      "English 35.0\n",
      "\n",
      "\n",
      "The mode of subjects is : [[0 0 0 0 0]]\n",
      "\n",
      "\n",
      "The standard deviation of subjects are :\n",
      "Maths 15.8417170787\n",
      "Physics 17.870646323\n",
      "Chemistry 19.7443662851\n",
      "Sociology 19.6611291639\n",
      "English 18.626862323\n"
     ]
    }
   ],
   "source": [
    "newstud=np.array([0,0,0,0,0]).reshape(1,5)\n",
    "marksss=np.append(markss,newstud,axis=0)\n",
    "nmean=np.mean(marksss,axis=0)\n",
    "print(\"The mean for following subjects are :\")\n",
    "for x in range(len(list2)):\n",
    "        print(list2[x], nmean[x])\n",
    "print(\"\\n\")\n",
    "\n",
    "nmed=np.median(marksss,axis=0)\n",
    "print(\"The median of subjects are :\")\n",
    "for x in range(len(list2)):\n",
    "        print(list2[x], nmed[x])\n",
    "print(\"\\n\")\n",
    "\n",
    "nm=stats.mode(marksss,axis=0)\n",
    "print(\"The mode of subjects is :\",nm[0])\n",
    "print(\"\\n\")\n",
    "\n",
    "nstd=np.std(marksss,axis=0)\n",
    "print(\"The standard deviation of subjects are :\")\n",
    "for x in range(len(list2)):\n",
    "        print(list2[x], nstd[x])"
   ]
  },
  {
   "cell_type": "code",
   "execution_count": null,
   "metadata": {
    "collapsed": true
   },
   "outputs": [],
   "source": [
    "2. What is the minimum and maximum of each subject?"
   ]
  },
  {
   "cell_type": "code",
   "execution_count": 46,
   "metadata": {},
   "outputs": [
    {
     "name": "stdout",
     "output_type": "stream",
     "text": [
      "The minimum of subjects are :\n",
      "Maths 0\n",
      "Physics 0\n",
      "Chemistry 0\n",
      "Sociology 0\n",
      "English 0\n",
      "\n",
      "\n",
      "The maximum of subjects are :\n",
      "Maths 45\n",
      "Physics 50\n",
      "Chemistry 50\n",
      "Sociology 48\n",
      "English 49\n"
     ]
    }
   ],
   "source": [
    "minimum=np.min(marksss,axis=0)\n",
    "print(\"The minimum of subjects are :\")\n",
    "for x in range(len(list2)):\n",
    "        print(list2[x], minimum[x])\n",
    "print(\"\\n\")\n",
    "maximum=np.max(marksss,axis=0)\n",
    "print(\"The maximum of subjects are :\")\n",
    "for x in range(len(list2)):\n",
    "        print(list2[x], maximum[x])"
   ]
  },
  {
   "cell_type": "code",
   "execution_count": null,
   "metadata": {
    "collapsed": true
   },
   "outputs": [],
   "source": [
    "3. Print the subject in  each student good at and poor at ?"
   ]
  },
  {
   "cell_type": "code",
   "execution_count": 62,
   "metadata": {},
   "outputs": [
    {
     "name": "stdout",
     "output_type": "stream",
     "text": [
      "Rajesh is good in English and bad in sociology\n",
      "Rima is good in physics and bad in maths\n",
      "Ram is good in English and bad in sociology\n",
      "Joseph is good in chemistry and bad in maths\n",
      "Sunny is good in maths and bad in maths\n"
     ]
    }
   ],
   "source": [
    "sub=[\"maths\",\"physics\",\"chemistry\",\"sociology\",\"English\"]\n",
    "print(\"Rajesh is good in %s and bad in %s\"%(sub[marksss[0].argmax()],sub[marksss[0].argmin()]))\n",
    "print(\"Rima is good in %s and bad in %s\"%(sub[marksss[1].argmax()],sub[marksss[1].argmin()]))\n",
    "print(\"Ram is good in %s and bad in %s\"%(sub[marksss[2].argmax()],sub[marksss[2].argmin()]))\n",
    "print(\"Joseph is good in %s and bad in %s\"%(sub[marksss[3].argmax()],sub[marksss[3].argmin()]))\n",
    "print(\"Sunny is good in %s and bad in %s\"%(sub[marksss[4].argmax()],sub[marksss[4].argmin()]))"
   ]
  },
  {
   "cell_type": "code",
   "execution_count": null,
   "metadata": {
    "collapsed": true
   },
   "outputs": [],
   "source": [
    "4. What is the overall class mean, mode, median and standard deviation"
   ]
  },
  {
   "cell_type": "code",
   "execution_count": 47,
   "metadata": {},
   "outputs": [
    {
     "name": "stdout",
     "output_type": "stream",
     "text": [
      "The mean of overall class is:  22.32\n",
      "The median of overall class is:  20.0\n",
      "The mode of overall class is:  [[0 0 0 0 0]]\n",
      "The standard deviation of overall class is:  18.6004731123\n"
     ]
    }
   ],
   "source": [
    "mean=np.mean(marksss)\n",
    "print(\"The mean of overall class is: \",mean)\n",
    "med=np.median(marksss)\n",
    "print(\"The median of overall class is: \",med)\n",
    "m=stats.mode(marksss)\n",
    "print(\"The mode of overall class is: \",m[0])\n",
    "std=np.std(marksss)\n",
    "print(\"The standard deviation of overall class is: \",std)"
   ]
  },
  {
   "cell_type": "code",
   "execution_count": null,
   "metadata": {
    "collapsed": true
   },
   "outputs": [],
   "source": [
    "D. Print the current score card for the class"
   ]
  },
  {
   "cell_type": "code",
   "execution_count": 51,
   "metadata": {},
   "outputs": [
    {
     "name": "stdout",
     "output_type": "stream",
     "text": [
      "The marks card for Rajesh is :\n",
      "Maths 15\n",
      "Physics 20\n",
      "Chemistry 25\n",
      "Sociology 12\n",
      "English 40\n",
      "\n",
      "\n",
      "The marks card for Rima is :\n",
      "Maths 45\n",
      "Physics 50\n",
      "Chemistry 50\n",
      "Sociology 48\n",
      "English 49\n",
      "\n",
      "\n",
      "The marks card for Ram is :\n",
      "Maths 8\n",
      "Physics 7\n",
      "Chemistry 3\n",
      "Sociology 2\n",
      "English 10\n",
      "\n",
      "\n",
      "The marks card for Joseph is :\n",
      "Maths 28\n",
      "Physics 32\n",
      "Chemistry 40\n",
      "Sociology 39\n",
      "English 35\n"
     ]
    }
   ],
   "source": [
    "print(\"The marks card for Rajesh is :\")\n",
    "for x in range(len(list2)):\n",
    "    print(list2[x],marksss[0][x])\n",
    "print(\"\\n\")\n",
    "print(\"The marks card for Rima is :\")\n",
    "for x in range(len(list2)):\n",
    "    print(list2[x],marksss[1][x])\n",
    "print(\"\\n\")\n",
    "print(\"The marks card for Ram is :\")\n",
    "for x in range(len(list2)):\n",
    "    print(list2[x],marksss[2][x])\n",
    "print(\"\\n\")\n",
    "print(\"The marks card for Joseph is :\")\n",
    "for x in range(len(list2)):\n",
    "    print(list2[x],marksss[3][x])"
   ]
  },
  {
   "cell_type": "code",
   "execution_count": null,
   "metadata": {
    "collapsed": true
   },
   "outputs": [],
   "source": []
  }
 ],
 "metadata": {
  "kernelspec": {
   "display_name": "Python 3",
   "language": "python",
   "name": "python3"
  },
  "language_info": {
   "codemirror_mode": {
    "name": "ipython",
    "version": 3
   },
   "file_extension": ".py",
   "mimetype": "text/x-python",
   "name": "python",
   "nbconvert_exporter": "python",
   "pygments_lexer": "ipython3",
   "version": "3.6.2"
  }
 },
 "nbformat": 4,
 "nbformat_minor": 2
}
